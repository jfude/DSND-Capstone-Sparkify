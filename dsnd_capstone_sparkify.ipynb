{
 "cells": [
  {
   "cell_type": "markdown",
   "metadata": {},
   "source": [
    "# Sparkify Data Analysis and Prediction of Churn\n",
    "\n",
    "In the notebook below, we provide an analysis of the \"mini_sparkify_event_data\" data set, a sample of data from a hypothetical music streaming service (similar to Pandora or Spotify). We attempt to develop a model to anticipate **churn**, i.e. cancellation of the service. The analysis is performed using pySpark.\n"
   ]
  },
  {
   "cell_type": "markdown",
   "metadata": {},
   "source": [
    "## Launch Spark Session"
   ]
  },
  {
   "cell_type": "code",
   "execution_count": 1,
   "metadata": {},
   "outputs": [],
   "source": [
    "# Import needed libraries here\n",
    "import seaborn as sns\n",
    "from pyspark.sql import SparkSession\n",
    "import  pyspark.sql.functions as F\n",
    "from pyspark.sql.functions import avg, col, concat, desc, explode, lit, min, max, split, count, udf\n",
    "from pyspark.sql.types import IntegerType, BooleanType, StringType\n",
    "from pyspark.ml.feature import StringIndexer, VectorAssembler, MinMaxScaler\n",
    "from pyspark.ml import Pipeline\n",
    "from pyspark.ml.classification import DecisionTreeClassifier, RandomForestClassifier\n",
    "from pyspark.ml.tuning import CrossValidator, ParamGridBuilder\n",
    "from pyspark.ml.evaluation import BinaryClassificationEvaluator, MulticlassClassificationEvaluator\n",
    "from pyspark.mllib.evaluation import MulticlassMetrics\n",
    "from pyspark.sql.functions import broadcast\n",
    "import matplotlib.pyplot as plt\n",
    "from functools import reduce\n",
    "import time\n"
   ]
  },
  {
   "cell_type": "code",
   "execution_count": 2,
   "metadata": {},
   "outputs": [],
   "source": [
    "# Launch Spark session\n",
    "spark = SparkSession.builder \\\n",
    "    .master(\"local\") \\\n",
    "    .appName(\"Sparkify Project\") \\\n",
    "    .getOrCreate()"
   ]
  },
  {
   "cell_type": "markdown",
   "metadata": {},
   "source": [
    "## Read Data"
   ]
  },
  {
   "cell_type": "code",
   "execution_count": 3,
   "metadata": {},
   "outputs": [
    {
     "data": {
      "text/plain": [
       "DataFrame[artist: string, auth: string, firstName: string, gender: string, itemInSession: bigint, lastName: string, length: double, level: string, location: string, method: string, page: string, registration: bigint, sessionId: bigint, song: string, status: bigint, ts: bigint, userAgent: string, userId: string]"
      ]
     },
     "execution_count": 3,
     "metadata": {},
     "output_type": "execute_result"
    }
   ],
   "source": [
    "# Read in the data set\n",
    "sdf = spark.read.json('mini_sparkify_event_data.json') ## Read into Spark Dataframe\n",
    "sdf.persist()"
   ]
  },
  {
   "cell_type": "markdown",
   "metadata": {},
   "source": [
    "## 1. Initial Look at Data "
   ]
  },
  {
   "cell_type": "markdown",
   "metadata": {},
   "source": [
    "### 1.1 Describe Data Shape and Fields"
   ]
  },
  {
   "cell_type": "code",
   "execution_count": 4,
   "metadata": {},
   "outputs": [
    {
     "name": "stdout",
     "output_type": "stream",
     "text": [
      "Number of rows =  286500\n",
      "Number of columns =  18\n",
      "Columns Headings and Types\n",
      "root\n",
      " |-- artist: string (nullable = true)\n",
      " |-- auth: string (nullable = true)\n",
      " |-- firstName: string (nullable = true)\n",
      " |-- gender: string (nullable = true)\n",
      " |-- itemInSession: long (nullable = true)\n",
      " |-- lastName: string (nullable = true)\n",
      " |-- length: double (nullable = true)\n",
      " |-- level: string (nullable = true)\n",
      " |-- location: string (nullable = true)\n",
      " |-- method: string (nullable = true)\n",
      " |-- page: string (nullable = true)\n",
      " |-- registration: long (nullable = true)\n",
      " |-- sessionId: long (nullable = true)\n",
      " |-- song: string (nullable = true)\n",
      " |-- status: long (nullable = true)\n",
      " |-- ts: long (nullable = true)\n",
      " |-- userAgent: string (nullable = true)\n",
      " |-- userId: string (nullable = true)\n",
      "\n"
     ]
    }
   ],
   "source": [
    "print(\"Number of rows = \",sdf.count())\n",
    "print(\"Number of columns = \",len(sdf.columns))\n",
    "print(\"Columns Headings and Types\")\n",
    "sdf.printSchema()"
   ]
  },
  {
   "cell_type": "markdown",
   "metadata": {},
   "source": [
    "### 1.2 Field Descriptions"
   ]
  },
  {
   "cell_type": "markdown",
   "metadata": {},
   "source": [
    "Here we give a heads up on field descriptions, some of which may not be obvious\n",
    "but will be discovered later."
   ]
  },
  {
   "cell_type": "markdown",
   "metadata": {},
   "source": [
    "Field Name                 |  Field Description\n",
    ":-------------------------:|:-------------------------:\n",
    "ts                         |  Timestamp of page access (Unix Time milliseconds since 1/1/1970)\n",
    "userId                     |  Unique id for userId, known if user is logged in\n",
    "sessionId                  |  Id number for session, definition of session is somewhat unclear\n",
    "page                       |  Particular type of page being accessed, e.g. Home, NextSong, About, ...\n",
    "auth                       |  Authorization: 'Logged In', 'Logged Out', 'Guest', 'Cancelled'\n",
    "method                     |  HTTP Reguest, either GET or PUT \n",
    "status                     |  Return status from request, 200 (OK),  404(Error:Page not Found), (307) Redirect\n",
    "level                      |  'free' ('paid'): user streams with (without) advertisements\n",
    "itemInSession              |  Sequence id of page access in session\n",
    "location                   |  Location of userAgent\n",
    "userAgent                  |  Agent (webbrowser,OS) used to access page\n",
    "lastName                   |  Last name  of user \n",
    "firstName                  |  First name of user\n",
    "registration               |  Timestamp of when user registered with service (Unit Time)\n",
    "gender                     |  Gender of user: 'M' (Male) or 'F' (Female)\n",
    "artist                     |  Artist of song being listened to if on page='NextSong'\n",
    "song                       |  Name of song  being listened to if on page='NextSong'\n",
    "length                     |  Length of song in seconds\n"
   ]
  },
  {
   "cell_type": "markdown",
   "metadata": {},
   "source": [
    "#### Each row essentially represents a webpage access by some user, represented by the userId field. "
   ]
  },
  {
   "cell_type": "code",
   "execution_count": 5,
   "metadata": {},
   "outputs": [
    {
     "data": {
      "text/html": [
       "<div>\n",
       "<style scoped>\n",
       "    .dataframe tbody tr th:only-of-type {\n",
       "        vertical-align: middle;\n",
       "    }\n",
       "\n",
       "    .dataframe tbody tr th {\n",
       "        vertical-align: top;\n",
       "    }\n",
       "\n",
       "    .dataframe thead th {\n",
       "        text-align: right;\n",
       "    }\n",
       "</style>\n",
       "<table border=\"1\" class=\"dataframe\">\n",
       "  <thead>\n",
       "    <tr style=\"text-align: right;\">\n",
       "      <th></th>\n",
       "      <th>artist</th>\n",
       "      <th>auth</th>\n",
       "      <th>firstName</th>\n",
       "      <th>gender</th>\n",
       "      <th>itemInSession</th>\n",
       "      <th>lastName</th>\n",
       "      <th>length</th>\n",
       "      <th>level</th>\n",
       "      <th>location</th>\n",
       "      <th>method</th>\n",
       "      <th>page</th>\n",
       "      <th>registration</th>\n",
       "      <th>sessionId</th>\n",
       "      <th>song</th>\n",
       "      <th>status</th>\n",
       "      <th>ts</th>\n",
       "      <th>userAgent</th>\n",
       "      <th>userId</th>\n",
       "    </tr>\n",
       "  </thead>\n",
       "  <tbody>\n",
       "    <tr>\n",
       "      <th>0</th>\n",
       "      <td>Dwight Yoakam</td>\n",
       "      <td>Logged In</td>\n",
       "      <td>Warren</td>\n",
       "      <td>M</td>\n",
       "      <td>0</td>\n",
       "      <td>Miller</td>\n",
       "      <td>239.30730</td>\n",
       "      <td>free</td>\n",
       "      <td>Baltimore-Columbia-Towson, MD</td>\n",
       "      <td>PUT</td>\n",
       "      <td>NextSong</td>\n",
       "      <td>1538169823000</td>\n",
       "      <td>240</td>\n",
       "      <td>You're The One</td>\n",
       "      <td>200</td>\n",
       "      <td>1538356650000</td>\n",
       "      <td>Mozilla/5.0 (Windows NT 6.0; rv:31.0) Gecko/20...</td>\n",
       "      <td>4</td>\n",
       "    </tr>\n",
       "    <tr>\n",
       "      <th>1</th>\n",
       "      <td>None</td>\n",
       "      <td>Logged In</td>\n",
       "      <td>Warren</td>\n",
       "      <td>M</td>\n",
       "      <td>1</td>\n",
       "      <td>Miller</td>\n",
       "      <td>NaN</td>\n",
       "      <td>free</td>\n",
       "      <td>Baltimore-Columbia-Towson, MD</td>\n",
       "      <td>PUT</td>\n",
       "      <td>Logout</td>\n",
       "      <td>1538169823000</td>\n",
       "      <td>240</td>\n",
       "      <td>None</td>\n",
       "      <td>307</td>\n",
       "      <td>1538356651000</td>\n",
       "      <td>Mozilla/5.0 (Windows NT 6.0; rv:31.0) Gecko/20...</td>\n",
       "      <td>4</td>\n",
       "    </tr>\n",
       "    <tr>\n",
       "      <th>2</th>\n",
       "      <td>None</td>\n",
       "      <td>Logged In</td>\n",
       "      <td>Warren</td>\n",
       "      <td>M</td>\n",
       "      <td>4</td>\n",
       "      <td>Miller</td>\n",
       "      <td>NaN</td>\n",
       "      <td>free</td>\n",
       "      <td>Baltimore-Columbia-Towson, MD</td>\n",
       "      <td>GET</td>\n",
       "      <td>Home</td>\n",
       "      <td>1538169823000</td>\n",
       "      <td>240</td>\n",
       "      <td>None</td>\n",
       "      <td>200</td>\n",
       "      <td>1538356686000</td>\n",
       "      <td>Mozilla/5.0 (Windows NT 6.0; rv:31.0) Gecko/20...</td>\n",
       "      <td>4</td>\n",
       "    </tr>\n",
       "    <tr>\n",
       "      <th>3</th>\n",
       "      <td>Parachute</td>\n",
       "      <td>Logged In</td>\n",
       "      <td>Warren</td>\n",
       "      <td>M</td>\n",
       "      <td>5</td>\n",
       "      <td>Miller</td>\n",
       "      <td>221.67465</td>\n",
       "      <td>free</td>\n",
       "      <td>Baltimore-Columbia-Towson, MD</td>\n",
       "      <td>PUT</td>\n",
       "      <td>NextSong</td>\n",
       "      <td>1538169823000</td>\n",
       "      <td>240</td>\n",
       "      <td>Ghost</td>\n",
       "      <td>200</td>\n",
       "      <td>1538356889000</td>\n",
       "      <td>Mozilla/5.0 (Windows NT 6.0; rv:31.0) Gecko/20...</td>\n",
       "      <td>4</td>\n",
       "    </tr>\n",
       "    <tr>\n",
       "      <th>4</th>\n",
       "      <td>None</td>\n",
       "      <td>Logged In</td>\n",
       "      <td>Warren</td>\n",
       "      <td>M</td>\n",
       "      <td>6</td>\n",
       "      <td>Miller</td>\n",
       "      <td>NaN</td>\n",
       "      <td>free</td>\n",
       "      <td>Baltimore-Columbia-Towson, MD</td>\n",
       "      <td>GET</td>\n",
       "      <td>Home</td>\n",
       "      <td>1538169823000</td>\n",
       "      <td>240</td>\n",
       "      <td>None</td>\n",
       "      <td>200</td>\n",
       "      <td>1538356954000</td>\n",
       "      <td>Mozilla/5.0 (Windows NT 6.0; rv:31.0) Gecko/20...</td>\n",
       "      <td>4</td>\n",
       "    </tr>\n",
       "    <tr>\n",
       "      <th>5</th>\n",
       "      <td>Jason Mraz</td>\n",
       "      <td>Logged In</td>\n",
       "      <td>Warren</td>\n",
       "      <td>M</td>\n",
       "      <td>7</td>\n",
       "      <td>Miller</td>\n",
       "      <td>218.40934</td>\n",
       "      <td>free</td>\n",
       "      <td>Baltimore-Columbia-Towson, MD</td>\n",
       "      <td>PUT</td>\n",
       "      <td>NextSong</td>\n",
       "      <td>1538169823000</td>\n",
       "      <td>240</td>\n",
       "      <td>Geek In The Pink [Phil Tan Remix]</td>\n",
       "      <td>200</td>\n",
       "      <td>1538357110000</td>\n",
       "      <td>Mozilla/5.0 (Windows NT 6.0; rv:31.0) Gecko/20...</td>\n",
       "      <td>4</td>\n",
       "    </tr>\n",
       "    <tr>\n",
       "      <th>6</th>\n",
       "      <td>Mastodon</td>\n",
       "      <td>Logged In</td>\n",
       "      <td>Warren</td>\n",
       "      <td>M</td>\n",
       "      <td>8</td>\n",
       "      <td>Miller</td>\n",
       "      <td>215.97995</td>\n",
       "      <td>free</td>\n",
       "      <td>Baltimore-Columbia-Towson, MD</td>\n",
       "      <td>PUT</td>\n",
       "      <td>NextSong</td>\n",
       "      <td>1538169823000</td>\n",
       "      <td>240</td>\n",
       "      <td>The Wolf Is Loose (Album Version)</td>\n",
       "      <td>200</td>\n",
       "      <td>1538357328000</td>\n",
       "      <td>Mozilla/5.0 (Windows NT 6.0; rv:31.0) Gecko/20...</td>\n",
       "      <td>4</td>\n",
       "    </tr>\n",
       "    <tr>\n",
       "      <th>7</th>\n",
       "      <td>Dead Can Dance</td>\n",
       "      <td>Logged In</td>\n",
       "      <td>Warren</td>\n",
       "      <td>M</td>\n",
       "      <td>9</td>\n",
       "      <td>Miller</td>\n",
       "      <td>203.91138</td>\n",
       "      <td>free</td>\n",
       "      <td>Baltimore-Columbia-Towson, MD</td>\n",
       "      <td>PUT</td>\n",
       "      <td>NextSong</td>\n",
       "      <td>1538169823000</td>\n",
       "      <td>240</td>\n",
       "      <td>The Promised Womb (Remastered)</td>\n",
       "      <td>200</td>\n",
       "      <td>1538357543000</td>\n",
       "      <td>Mozilla/5.0 (Windows NT 6.0; rv:31.0) Gecko/20...</td>\n",
       "      <td>4</td>\n",
       "    </tr>\n",
       "    <tr>\n",
       "      <th>8</th>\n",
       "      <td>En Vogue</td>\n",
       "      <td>Logged In</td>\n",
       "      <td>Warren</td>\n",
       "      <td>M</td>\n",
       "      <td>10</td>\n",
       "      <td>Miller</td>\n",
       "      <td>250.46159</td>\n",
       "      <td>free</td>\n",
       "      <td>Baltimore-Columbia-Towson, MD</td>\n",
       "      <td>PUT</td>\n",
       "      <td>NextSong</td>\n",
       "      <td>1538169823000</td>\n",
       "      <td>240</td>\n",
       "      <td>Free Your Mind</td>\n",
       "      <td>200</td>\n",
       "      <td>1538357746000</td>\n",
       "      <td>Mozilla/5.0 (Windows NT 6.0; rv:31.0) Gecko/20...</td>\n",
       "      <td>4</td>\n",
       "    </tr>\n",
       "    <tr>\n",
       "      <th>9</th>\n",
       "      <td>Linkin Park</td>\n",
       "      <td>Logged In</td>\n",
       "      <td>Warren</td>\n",
       "      <td>M</td>\n",
       "      <td>11</td>\n",
       "      <td>Miller</td>\n",
       "      <td>268.61669</td>\n",
       "      <td>free</td>\n",
       "      <td>Baltimore-Columbia-Towson, MD</td>\n",
       "      <td>PUT</td>\n",
       "      <td>NextSong</td>\n",
       "      <td>1538169823000</td>\n",
       "      <td>240</td>\n",
       "      <td>New Divide (Album Version)</td>\n",
       "      <td>200</td>\n",
       "      <td>1538357996000</td>\n",
       "      <td>Mozilla/5.0 (Windows NT 6.0; rv:31.0) Gecko/20...</td>\n",
       "      <td>4</td>\n",
       "    </tr>\n",
       "  </tbody>\n",
       "</table>\n",
       "</div>"
      ],
      "text/plain": [
       "           artist       auth firstName gender  itemInSession lastName  \\\n",
       "0   Dwight Yoakam  Logged In    Warren      M              0   Miller   \n",
       "1            None  Logged In    Warren      M              1   Miller   \n",
       "2            None  Logged In    Warren      M              4   Miller   \n",
       "3       Parachute  Logged In    Warren      M              5   Miller   \n",
       "4            None  Logged In    Warren      M              6   Miller   \n",
       "5      Jason Mraz  Logged In    Warren      M              7   Miller   \n",
       "6        Mastodon  Logged In    Warren      M              8   Miller   \n",
       "7  Dead Can Dance  Logged In    Warren      M              9   Miller   \n",
       "8        En Vogue  Logged In    Warren      M             10   Miller   \n",
       "9     Linkin Park  Logged In    Warren      M             11   Miller   \n",
       "\n",
       "      length level                       location method      page  \\\n",
       "0  239.30730  free  Baltimore-Columbia-Towson, MD    PUT  NextSong   \n",
       "1        NaN  free  Baltimore-Columbia-Towson, MD    PUT    Logout   \n",
       "2        NaN  free  Baltimore-Columbia-Towson, MD    GET      Home   \n",
       "3  221.67465  free  Baltimore-Columbia-Towson, MD    PUT  NextSong   \n",
       "4        NaN  free  Baltimore-Columbia-Towson, MD    GET      Home   \n",
       "5  218.40934  free  Baltimore-Columbia-Towson, MD    PUT  NextSong   \n",
       "6  215.97995  free  Baltimore-Columbia-Towson, MD    PUT  NextSong   \n",
       "7  203.91138  free  Baltimore-Columbia-Towson, MD    PUT  NextSong   \n",
       "8  250.46159  free  Baltimore-Columbia-Towson, MD    PUT  NextSong   \n",
       "9  268.61669  free  Baltimore-Columbia-Towson, MD    PUT  NextSong   \n",
       "\n",
       "    registration  sessionId                               song  status  \\\n",
       "0  1538169823000        240                     You're The One     200   \n",
       "1  1538169823000        240                               None     307   \n",
       "2  1538169823000        240                               None     200   \n",
       "3  1538169823000        240                              Ghost     200   \n",
       "4  1538169823000        240                               None     200   \n",
       "5  1538169823000        240  Geek In The Pink [Phil Tan Remix]     200   \n",
       "6  1538169823000        240  The Wolf Is Loose (Album Version)     200   \n",
       "7  1538169823000        240     The Promised Womb (Remastered)     200   \n",
       "8  1538169823000        240                     Free Your Mind     200   \n",
       "9  1538169823000        240         New Divide (Album Version)     200   \n",
       "\n",
       "              ts                                          userAgent userId  \n",
       "0  1538356650000  Mozilla/5.0 (Windows NT 6.0; rv:31.0) Gecko/20...      4  \n",
       "1  1538356651000  Mozilla/5.0 (Windows NT 6.0; rv:31.0) Gecko/20...      4  \n",
       "2  1538356686000  Mozilla/5.0 (Windows NT 6.0; rv:31.0) Gecko/20...      4  \n",
       "3  1538356889000  Mozilla/5.0 (Windows NT 6.0; rv:31.0) Gecko/20...      4  \n",
       "4  1538356954000  Mozilla/5.0 (Windows NT 6.0; rv:31.0) Gecko/20...      4  \n",
       "5  1538357110000  Mozilla/5.0 (Windows NT 6.0; rv:31.0) Gecko/20...      4  \n",
       "6  1538357328000  Mozilla/5.0 (Windows NT 6.0; rv:31.0) Gecko/20...      4  \n",
       "7  1538357543000  Mozilla/5.0 (Windows NT 6.0; rv:31.0) Gecko/20...      4  \n",
       "8  1538357746000  Mozilla/5.0 (Windows NT 6.0; rv:31.0) Gecko/20...      4  \n",
       "9  1538357996000  Mozilla/5.0 (Windows NT 6.0; rv:31.0) Gecko/20...      4  "
      ]
     },
     "execution_count": 5,
     "metadata": {},
     "output_type": "execute_result"
    }
   ],
   "source": [
    "## Example sample for userId=4 (Warren Miller)\n",
    "sdf.filter(sdf.userId=='4').toPandas()[0:10]"
   ]
  },
  {
   "cell_type": "markdown",
   "metadata": {},
   "source": [
    "### 1.3 Definition of Churn"
   ]
  },
  {
   "cell_type": "markdown",
   "metadata": {},
   "source": [
    "We define **churn** as the access of the 'Cancel Confirmation' page, \n",
    "sdf.page = 'Cancel Confirmation', always preceded by access of the 'Cancel' page. In this notebook we refer\n",
    "to the set of data corresponding to users in churn as the *cancel set* and remaining data as the *stay set*."
   ]
  },
  {
   "cell_type": "code",
   "execution_count": null,
   "metadata": {},
   "outputs": [],
   "source": []
  },
  {
   "cell_type": "markdown",
   "metadata": {},
   "source": [
    "## 2 Exploratory Analysis and Feature Discovery"
   ]
  },
  {
   "cell_type": "markdown",
   "metadata": {},
   "source": [
    "#### *We examine the data field by field, attempting to determine features that can discriminiate users in the cancel set from those in the stay set.*"
   ]
  },
  {
   "cell_type": "markdown",
   "metadata": {},
   "source": [
    "### 2.1 Get unique count of userIds"
   ]
  },
  {
   "cell_type": "code",
   "execution_count": 6,
   "metadata": {},
   "outputs": [
    {
     "data": {
      "text/plain": [
       "[Row(count(DISTINCT userId)=226)]"
      ]
     },
     "execution_count": 6,
     "metadata": {},
     "output_type": "execute_result"
    }
   ],
   "source": [
    "sdf.agg(F.countDistinct(sdf.userId)).collect()"
   ]
  },
  {
   "cell_type": "markdown",
   "metadata": {},
   "source": [
    "### 2.2 Rows with no userId"
   ]
  },
  {
   "cell_type": "markdown",
   "metadata": {},
   "source": [
    "#### *We expect userIds to be made up of digits, find those that are not. The rows shown in the next cell are those that are not null when there is no userId.*"
   ]
  },
  {
   "cell_type": "code",
   "execution_count": 7,
   "metadata": {},
   "outputs": [
    {
     "data": {
      "text/html": [
       "<div>\n",
       "<style scoped>\n",
       "    .dataframe tbody tr th:only-of-type {\n",
       "        vertical-align: middle;\n",
       "    }\n",
       "\n",
       "    .dataframe tbody tr th {\n",
       "        vertical-align: top;\n",
       "    }\n",
       "\n",
       "    .dataframe thead th {\n",
       "        text-align: right;\n",
       "    }\n",
       "</style>\n",
       "<table border=\"1\" class=\"dataframe\">\n",
       "  <thead>\n",
       "    <tr style=\"text-align: right;\">\n",
       "      <th></th>\n",
       "      <th>userId</th>\n",
       "      <th>sessionId</th>\n",
       "      <th>page</th>\n",
       "      <th>auth</th>\n",
       "      <th>method</th>\n",
       "      <th>status</th>\n",
       "      <th>level</th>\n",
       "      <th>itemInSession</th>\n",
       "    </tr>\n",
       "  </thead>\n",
       "  <tbody>\n",
       "    <tr>\n",
       "      <th>0</th>\n",
       "      <td></td>\n",
       "      <td>8</td>\n",
       "      <td>Home</td>\n",
       "      <td>Logged Out</td>\n",
       "      <td>GET</td>\n",
       "      <td>200</td>\n",
       "      <td>free</td>\n",
       "      <td>100</td>\n",
       "    </tr>\n",
       "    <tr>\n",
       "      <th>1</th>\n",
       "      <td></td>\n",
       "      <td>8</td>\n",
       "      <td>Help</td>\n",
       "      <td>Logged Out</td>\n",
       "      <td>GET</td>\n",
       "      <td>200</td>\n",
       "      <td>free</td>\n",
       "      <td>101</td>\n",
       "    </tr>\n",
       "    <tr>\n",
       "      <th>2</th>\n",
       "      <td></td>\n",
       "      <td>8</td>\n",
       "      <td>Home</td>\n",
       "      <td>Logged Out</td>\n",
       "      <td>GET</td>\n",
       "      <td>200</td>\n",
       "      <td>free</td>\n",
       "      <td>102</td>\n",
       "    </tr>\n",
       "    <tr>\n",
       "      <th>3</th>\n",
       "      <td></td>\n",
       "      <td>8</td>\n",
       "      <td>Login</td>\n",
       "      <td>Logged Out</td>\n",
       "      <td>PUT</td>\n",
       "      <td>307</td>\n",
       "      <td>free</td>\n",
       "      <td>103</td>\n",
       "    </tr>\n",
       "    <tr>\n",
       "      <th>4</th>\n",
       "      <td></td>\n",
       "      <td>240</td>\n",
       "      <td>Home</td>\n",
       "      <td>Logged Out</td>\n",
       "      <td>GET</td>\n",
       "      <td>200</td>\n",
       "      <td>free</td>\n",
       "      <td>2</td>\n",
       "    </tr>\n",
       "  </tbody>\n",
       "</table>\n",
       "</div>"
      ],
      "text/plain": [
       "  userId  sessionId   page        auth method  status level  itemInSession\n",
       "0                 8   Home  Logged Out    GET     200  free            100\n",
       "1                 8   Help  Logged Out    GET     200  free            101\n",
       "2                 8   Home  Logged Out    GET     200  free            102\n",
       "3                 8  Login  Logged Out    PUT     307  free            103\n",
       "4               240   Home  Logged Out    GET     200  free              2"
      ]
     },
     "execution_count": 7,
     "metadata": {},
     "output_type": "execute_result"
    }
   ],
   "source": [
    "# Return rows with missing userIds\n",
    "def is_digit(value):\n",
    "    return value.isdigit()\n",
    "\n",
    "is_digit_udf = udf(is_digit, BooleanType())\n",
    "sdf_mid  = sdf.filter(~is_digit_udf(sdf.userId))\n",
    "sdf_mid1 = sdf_mid.select('userId', 'sessionId','page',\n",
    "            'auth','method','status','level','itemInSession')\n",
    "sdf_mid1.limit(5).toPandas()"
   ]
  },
  {
   "cell_type": "markdown",
   "metadata": {},
   "source": [
    "#### *Explanation:*\n",
    "#### These rows correspond to page accesses where the userId is empty (unknown). All other fields are specific to the user and are thus null when the userId is missing. "
   ]
  },
  {
   "cell_type": "code",
   "execution_count": 8,
   "metadata": {},
   "outputs": [
    {
     "name": "stdout",
     "output_type": "stream",
     "text": [
      "+------+------+--------+--------+---------+------------+------+----+------+\n",
      "|userId|gender|location|lastName|firstName|registration|artist|song|length|\n",
      "+------+------+--------+--------+---------+------------+------+----+------+\n",
      "|      |  null|    null|    null|     null|        null|  null|null|  null|\n",
      "|      |  null|    null|    null|     null|        null|  null|null|  null|\n",
      "|      |  null|    null|    null|     null|        null|  null|null|  null|\n",
      "|      |  null|    null|    null|     null|        null|  null|null|  null|\n",
      "|      |  null|    null|    null|     null|        null|  null|null|  null|\n",
      "+------+------+--------+--------+---------+------------+------+----+------+\n",
      "only showing top 5 rows\n",
      "\n",
      "Number of rows with missing userId =  8346\n",
      "\n",
      "\n",
      "Number of nulls for each field\n"
     ]
    },
    {
     "data": {
      "text/html": [
       "<div>\n",
       "<style scoped>\n",
       "    .dataframe tbody tr th:only-of-type {\n",
       "        vertical-align: middle;\n",
       "    }\n",
       "\n",
       "    .dataframe tbody tr th {\n",
       "        vertical-align: top;\n",
       "    }\n",
       "\n",
       "    .dataframe thead th {\n",
       "        text-align: right;\n",
       "    }\n",
       "</style>\n",
       "<table border=\"1\" class=\"dataframe\">\n",
       "  <thead>\n",
       "    <tr style=\"text-align: right;\">\n",
       "      <th></th>\n",
       "      <th>userId</th>\n",
       "      <th>gender</th>\n",
       "      <th>location</th>\n",
       "      <th>lastName</th>\n",
       "      <th>firstName</th>\n",
       "      <th>registration</th>\n",
       "      <th>artist</th>\n",
       "      <th>song</th>\n",
       "      <th>length</th>\n",
       "    </tr>\n",
       "  </thead>\n",
       "  <tbody>\n",
       "    <tr>\n",
       "      <th>0</th>\n",
       "      <td>0</td>\n",
       "      <td>8346</td>\n",
       "      <td>8346</td>\n",
       "      <td>8346</td>\n",
       "      <td>8346</td>\n",
       "      <td>8346</td>\n",
       "      <td>8346</td>\n",
       "      <td>8346</td>\n",
       "      <td>8346</td>\n",
       "    </tr>\n",
       "  </tbody>\n",
       "</table>\n",
       "</div>"
      ],
      "text/plain": [
       "   userId  gender  location  lastName  firstName  registration  artist  song  \\\n",
       "0       0    8346      8346      8346       8346          8346    8346  8346   \n",
       "\n",
       "   length  \n",
       "0    8346  "
      ]
     },
     "execution_count": 8,
     "metadata": {},
     "output_type": "execute_result"
    }
   ],
   "source": [
    "# Show that these fields are always null when the userId is missing.\n",
    "sdf_mid2 = sdf_mid.select('userId', 'gender','location','lastName','firstName',\n",
    "                          'registration','artist','song','length')\n",
    "\n",
    "sdf_mid2.show(5)\n",
    "print(\"Number of rows with missing userId = \",sdf_mid2.count())\n",
    "print(\"\\n\\nNumber of nulls for each field\")\n",
    "sdf_mid2.select([F.count(F.when(F.isnull(c), c)).alias(c) for c in sdf_mid2.columns]).limit(5).toPandas()"
   ]
  },
  {
   "cell_type": "code",
   "execution_count": 9,
   "metadata": {},
   "outputs": [
    {
     "name": "stdout",
     "output_type": "stream",
     "text": [
      "Number of rows with missing userId =  8346\n",
      "\n",
      "\n",
      "Number of nulls for each field\n"
     ]
    },
    {
     "data": {
      "text/html": [
       "<div>\n",
       "<style scoped>\n",
       "    .dataframe tbody tr th:only-of-type {\n",
       "        vertical-align: middle;\n",
       "    }\n",
       "\n",
       "    .dataframe tbody tr th {\n",
       "        vertical-align: top;\n",
       "    }\n",
       "\n",
       "    .dataframe thead th {\n",
       "        text-align: right;\n",
       "    }\n",
       "</style>\n",
       "<table border=\"1\" class=\"dataframe\">\n",
       "  <thead>\n",
       "    <tr style=\"text-align: right;\">\n",
       "      <th></th>\n",
       "      <th>userId</th>\n",
       "      <th>gender</th>\n",
       "      <th>location</th>\n",
       "      <th>lastName</th>\n",
       "      <th>firstName</th>\n",
       "      <th>registration</th>\n",
       "      <th>artist</th>\n",
       "      <th>song</th>\n",
       "      <th>length</th>\n",
       "    </tr>\n",
       "  </thead>\n",
       "  <tbody>\n",
       "    <tr>\n",
       "      <th>0</th>\n",
       "      <td>0</td>\n",
       "      <td>8346</td>\n",
       "      <td>8346</td>\n",
       "      <td>8346</td>\n",
       "      <td>8346</td>\n",
       "      <td>8346</td>\n",
       "      <td>8346</td>\n",
       "      <td>8346</td>\n",
       "      <td>8346</td>\n",
       "    </tr>\n",
       "  </tbody>\n",
       "</table>\n",
       "</div>"
      ],
      "text/plain": [
       "   userId  gender  location  lastName  firstName  registration  artist  song  \\\n",
       "0       0    8346      8346      8346       8346          8346    8346  8346   \n",
       "\n",
       "   length  \n",
       "0    8346  "
      ]
     },
     "execution_count": 9,
     "metadata": {},
     "output_type": "execute_result"
    }
   ],
   "source": [
    "print(\"Number of rows with missing userId = \",sdf_mid2.count())\n",
    "print(\"\\n\\nNumber of nulls for each field\")\n",
    "sdf_mid2.select([F.count(F.when(F.isnull(c), c)).alias(c) for c in sdf_mid2.columns]).limit(5).toPandas()"
   ]
  },
  {
   "cell_type": "markdown",
   "metadata": {},
   "source": [
    "#### *The missing userIds account for only 8346/286500 = 2.9% of the total data. We can get more information by looking at the 'auth' field*."
   ]
  },
  {
   "cell_type": "markdown",
   "metadata": {},
   "source": [
    "### 2.3 Field *'auth'*  (missing userId)"
   ]
  },
  {
   "cell_type": "code",
   "execution_count": 10,
   "metadata": {},
   "outputs": [
    {
     "data": {
      "text/plain": [
       "[Row(auth='Guest', count=97), Row(auth='Logged Out', count=8249)]"
      ]
     },
     "execution_count": 10,
     "metadata": {},
     "output_type": "execute_result"
    }
   ],
   "source": [
    "## Print unique values of 'auth' when userId is missing\n",
    "sdf_mid1.groupBy('auth').count().orderBy('count').collect()"
   ]
  },
  {
   "cell_type": "markdown",
   "metadata": {},
   "source": [
    "#### There are only two unique values for *'auth'* field when userId is not present:        'Guest' and 'Logged Out'.\n",
    "#### We might ask if it is possible to restore userIds, so that we are tracking them when 'Logged Out'. \n",
    "#### For example"
   ]
  },
  {
   "cell_type": "code",
   "execution_count": 11,
   "metadata": {},
   "outputs": [
    {
     "data": {
      "text/html": [
       "<div>\n",
       "<style scoped>\n",
       "    .dataframe tbody tr th:only-of-type {\n",
       "        vertical-align: middle;\n",
       "    }\n",
       "\n",
       "    .dataframe tbody tr th {\n",
       "        vertical-align: top;\n",
       "    }\n",
       "\n",
       "    .dataframe thead th {\n",
       "        text-align: right;\n",
       "    }\n",
       "</style>\n",
       "<table border=\"1\" class=\"dataframe\">\n",
       "  <thead>\n",
       "    <tr style=\"text-align: right;\">\n",
       "      <th></th>\n",
       "      <th>ts</th>\n",
       "      <th>userId</th>\n",
       "      <th>sessionId</th>\n",
       "      <th>itemInSession</th>\n",
       "      <th>page</th>\n",
       "      <th>auth</th>\n",
       "    </tr>\n",
       "  </thead>\n",
       "  <tbody>\n",
       "    <tr>\n",
       "      <th>0</th>\n",
       "      <td>1538356650000</td>\n",
       "      <td>4</td>\n",
       "      <td>240</td>\n",
       "      <td>0</td>\n",
       "      <td>NextSong</td>\n",
       "      <td>Logged In</td>\n",
       "    </tr>\n",
       "    <tr>\n",
       "      <th>1</th>\n",
       "      <td>1538356651000</td>\n",
       "      <td>4</td>\n",
       "      <td>240</td>\n",
       "      <td>1</td>\n",
       "      <td>Logout</td>\n",
       "      <td>Logged In</td>\n",
       "    </tr>\n",
       "    <tr>\n",
       "      <th>2</th>\n",
       "      <td>1538356678000</td>\n",
       "      <td></td>\n",
       "      <td>240</td>\n",
       "      <td>2</td>\n",
       "      <td>Home</td>\n",
       "      <td>Logged Out</td>\n",
       "    </tr>\n",
       "    <tr>\n",
       "      <th>3</th>\n",
       "      <td>1538356679000</td>\n",
       "      <td></td>\n",
       "      <td>240</td>\n",
       "      <td>3</td>\n",
       "      <td>Login</td>\n",
       "      <td>Logged Out</td>\n",
       "    </tr>\n",
       "    <tr>\n",
       "      <th>4</th>\n",
       "      <td>1538356686000</td>\n",
       "      <td>4</td>\n",
       "      <td>240</td>\n",
       "      <td>4</td>\n",
       "      <td>Home</td>\n",
       "      <td>Logged In</td>\n",
       "    </tr>\n",
       "    <tr>\n",
       "      <th>5</th>\n",
       "      <td>1538356889000</td>\n",
       "      <td>4</td>\n",
       "      <td>240</td>\n",
       "      <td>5</td>\n",
       "      <td>NextSong</td>\n",
       "      <td>Logged In</td>\n",
       "    </tr>\n",
       "    <tr>\n",
       "      <th>6</th>\n",
       "      <td>1538356954000</td>\n",
       "      <td>4</td>\n",
       "      <td>240</td>\n",
       "      <td>6</td>\n",
       "      <td>Home</td>\n",
       "      <td>Logged In</td>\n",
       "    </tr>\n",
       "    <tr>\n",
       "      <th>7</th>\n",
       "      <td>1540798031000</td>\n",
       "      <td>200016</td>\n",
       "      <td>240</td>\n",
       "      <td>0</td>\n",
       "      <td>Home</td>\n",
       "      <td>Logged In</td>\n",
       "    </tr>\n",
       "    <tr>\n",
       "      <th>8</th>\n",
       "      <td>1540798229000</td>\n",
       "      <td>200016</td>\n",
       "      <td>240</td>\n",
       "      <td>1</td>\n",
       "      <td>NextSong</td>\n",
       "      <td>Logged In</td>\n",
       "    </tr>\n",
       "    <tr>\n",
       "      <th>9</th>\n",
       "      <td>1540798549000</td>\n",
       "      <td>200016</td>\n",
       "      <td>240</td>\n",
       "      <td>2</td>\n",
       "      <td>NextSong</td>\n",
       "      <td>Logged In</td>\n",
       "    </tr>\n",
       "    <tr>\n",
       "      <th>10</th>\n",
       "      <td>1540798743000</td>\n",
       "      <td>200016</td>\n",
       "      <td>240</td>\n",
       "      <td>3</td>\n",
       "      <td>NextSong</td>\n",
       "      <td>Logged In</td>\n",
       "    </tr>\n",
       "    <tr>\n",
       "      <th>11</th>\n",
       "      <td>1540798744000</td>\n",
       "      <td>200016</td>\n",
       "      <td>240</td>\n",
       "      <td>4</td>\n",
       "      <td>Thumbs Down</td>\n",
       "      <td>Logged In</td>\n",
       "    </tr>\n",
       "    <tr>\n",
       "      <th>12</th>\n",
       "      <td>1540799012000</td>\n",
       "      <td>200016</td>\n",
       "      <td>240</td>\n",
       "      <td>5</td>\n",
       "      <td>NextSong</td>\n",
       "      <td>Logged In</td>\n",
       "    </tr>\n",
       "    <tr>\n",
       "      <th>13</th>\n",
       "      <td>1540799275000</td>\n",
       "      <td>200016</td>\n",
       "      <td>240</td>\n",
       "      <td>6</td>\n",
       "      <td>NextSong</td>\n",
       "      <td>Logged In</td>\n",
       "    </tr>\n",
       "    <tr>\n",
       "      <th>14</th>\n",
       "      <td>1540712379000</td>\n",
       "      <td>300021</td>\n",
       "      <td>240</td>\n",
       "      <td>0</td>\n",
       "      <td>NextSong</td>\n",
       "      <td>Logged In</td>\n",
       "    </tr>\n",
       "    <tr>\n",
       "      <th>15</th>\n",
       "      <td>1540712636000</td>\n",
       "      <td>300021</td>\n",
       "      <td>240</td>\n",
       "      <td>1</td>\n",
       "      <td>NextSong</td>\n",
       "      <td>Logged In</td>\n",
       "    </tr>\n",
       "    <tr>\n",
       "      <th>16</th>\n",
       "      <td>1540712911000</td>\n",
       "      <td>300021</td>\n",
       "      <td>240</td>\n",
       "      <td>2</td>\n",
       "      <td>NextSong</td>\n",
       "      <td>Logged In</td>\n",
       "    </tr>\n",
       "    <tr>\n",
       "      <th>17</th>\n",
       "      <td>1540713215000</td>\n",
       "      <td>300021</td>\n",
       "      <td>240</td>\n",
       "      <td>3</td>\n",
       "      <td>NextSong</td>\n",
       "      <td>Logged In</td>\n",
       "    </tr>\n",
       "    <tr>\n",
       "      <th>18</th>\n",
       "      <td>1540713418000</td>\n",
       "      <td>300021</td>\n",
       "      <td>240</td>\n",
       "      <td>4</td>\n",
       "      <td>NextSong</td>\n",
       "      <td>Logged In</td>\n",
       "    </tr>\n",
       "    <tr>\n",
       "      <th>19</th>\n",
       "      <td>1540713602000</td>\n",
       "      <td>300021</td>\n",
       "      <td>240</td>\n",
       "      <td>5</td>\n",
       "      <td>Home</td>\n",
       "      <td>Logged In</td>\n",
       "    </tr>\n",
       "    <tr>\n",
       "      <th>20</th>\n",
       "      <td>1540713609000</td>\n",
       "      <td>300021</td>\n",
       "      <td>240</td>\n",
       "      <td>6</td>\n",
       "      <td>NextSong</td>\n",
       "      <td>Logged In</td>\n",
       "    </tr>\n",
       "  </tbody>\n",
       "</table>\n",
       "</div>"
      ],
      "text/plain": [
       "               ts  userId  sessionId  itemInSession         page        auth\n",
       "0   1538356650000       4        240              0     NextSong   Logged In\n",
       "1   1538356651000       4        240              1       Logout   Logged In\n",
       "2   1538356678000                240              2         Home  Logged Out\n",
       "3   1538356679000                240              3        Login  Logged Out\n",
       "4   1538356686000       4        240              4         Home   Logged In\n",
       "5   1538356889000       4        240              5     NextSong   Logged In\n",
       "6   1538356954000       4        240              6         Home   Logged In\n",
       "7   1540798031000  200016        240              0         Home   Logged In\n",
       "8   1540798229000  200016        240              1     NextSong   Logged In\n",
       "9   1540798549000  200016        240              2     NextSong   Logged In\n",
       "10  1540798743000  200016        240              3     NextSong   Logged In\n",
       "11  1540798744000  200016        240              4  Thumbs Down   Logged In\n",
       "12  1540799012000  200016        240              5     NextSong   Logged In\n",
       "13  1540799275000  200016        240              6     NextSong   Logged In\n",
       "14  1540712379000  300021        240              0     NextSong   Logged In\n",
       "15  1540712636000  300021        240              1     NextSong   Logged In\n",
       "16  1540712911000  300021        240              2     NextSong   Logged In\n",
       "17  1540713215000  300021        240              3     NextSong   Logged In\n",
       "18  1540713418000  300021        240              4     NextSong   Logged In\n",
       "19  1540713602000  300021        240              5         Home   Logged In\n",
       "20  1540713609000  300021        240              6     NextSong   Logged In"
      ]
     },
     "execution_count": 11,
     "metadata": {},
     "output_type": "execute_result"
    }
   ],
   "source": [
    "sdf.filter((sdf.sessionId == 240)  & (sdf.itemInSession < 7)) \\\n",
    "   .select(\"ts\",\"userId\",\"sessionId\",\"itemInSession\",\"page\",\"auth\").toPandas()"
   ]
  },
  {
   "cell_type": "markdown",
   "metadata": {},
   "source": [
    "#### Description:\n",
    "#### Note in the above that userId=4 logs out, then logs in, listens to a song (NextSong), and then goes back to home, all the while itemInSession increments. However, using userId,sessionId, and itemInSession to fill in missing userIds is not foolproof, since more than one user can be associated with a single sessionId, as can be seen above."
   ]
  },
  {
   "cell_type": "markdown",
   "metadata": {},
   "source": [
    "#### Based on these facts, we choose to eliminate rows with missing userIds"
   ]
  },
  {
   "cell_type": "code",
   "execution_count": 12,
   "metadata": {},
   "outputs": [],
   "source": [
    "# Eliminate rows with missing userIds\n",
    "sdf = sdf.filter(sdf.userId != '')"
   ]
  },
  {
   "cell_type": "markdown",
   "metadata": {},
   "source": [
    "### 2.4 Field *'auth'*  (present userId)"
   ]
  },
  {
   "cell_type": "code",
   "execution_count": 13,
   "metadata": {},
   "outputs": [
    {
     "name": "stdout",
     "output_type": "stream",
     "text": [
      "Unique auth fields when the userId is present.\n"
     ]
    },
    {
     "data": {
      "text/plain": [
       "[Row(auth='Cancelled', count=52), Row(auth='Logged In', count=278102)]"
      ]
     },
     "execution_count": 13,
     "metadata": {},
     "output_type": "execute_result"
    }
   ],
   "source": [
    "# Unique auth fields when the userId is present.\n",
    "print(\"Unique auth fields when the userId is present.\")\n",
    "sdf.groupBy('auth').count().orderBy('count').collect()"
   ]
  },
  {
   "cell_type": "code",
   "execution_count": 14,
   "metadata": {},
   "outputs": [
    {
     "name": "stdout",
     "output_type": "stream",
     "text": [
      "Consder the case where auth=Cancelled...\n",
      "+------+---------+--------------------+\n",
      "|userId|     auth|                page|\n",
      "+------+---------+--------------------+\n",
      "|    18|Cancelled|Cancellation Conf...|\n",
      "|    32|Cancelled|Cancellation Conf...|\n",
      "|   125|Cancelled|Cancellation Conf...|\n",
      "|   105|Cancelled|Cancellation Conf...|\n",
      "|    17|Cancelled|Cancellation Conf...|\n",
      "|   143|Cancelled|Cancellation Conf...|\n",
      "|   101|Cancelled|Cancellation Conf...|\n",
      "|   129|Cancelled|Cancellation Conf...|\n",
      "|   121|Cancelled|Cancellation Conf...|\n",
      "|    51|Cancelled|Cancellation Conf...|\n",
      "+------+---------+--------------------+\n",
      "only showing top 10 rows\n",
      "\n"
     ]
    }
   ],
   "source": [
    "print(\"Consder the case where auth=Cancelled...\")\n",
    "### Subset auth='Canceled'\n",
    "sdf.filter(sdf.auth=='Cancelled').select('userId','auth','page').show(10)"
   ]
  },
  {
   "cell_type": "markdown",
   "metadata": {},
   "source": [
    "#### We can show that when auth = 'Cancelled', page = 'Cancellation Confirmation' always"
   ]
  },
  {
   "cell_type": "code",
   "execution_count": 15,
   "metadata": {},
   "outputs": [
    {
     "data": {
      "text/plain": [
       "[Row(page='Cancellation Confirmation')]"
      ]
     },
     "execution_count": 15,
     "metadata": {},
     "output_type": "execute_result"
    }
   ],
   "source": [
    "# Get distinct values of page field when auth = 'Cancelled'\n",
    "sdf.filter(sdf.auth=='Cancelled').select('page').distinct().collect()"
   ]
  },
  {
   "cell_type": "markdown",
   "metadata": {},
   "source": [
    "#### In all other instances page='Logged In'. As a result, the 'auth' field doesn't provide useful distinguishing information (that we don't already have from the 'page' field) and so we drop it here."
   ]
  },
  {
   "cell_type": "code",
   "execution_count": 16,
   "metadata": {},
   "outputs": [],
   "source": [
    "sdf=sdf.drop('auth')"
   ]
  },
  {
   "cell_type": "markdown",
   "metadata": {},
   "source": [
    "### 2.5 Fields 'method' and 'status'"
   ]
  },
  {
   "cell_type": "code",
   "execution_count": 17,
   "metadata": {},
   "outputs": [
    {
     "data": {
      "text/html": [
       "<div>\n",
       "<style scoped>\n",
       "    .dataframe tbody tr th:only-of-type {\n",
       "        vertical-align: middle;\n",
       "    }\n",
       "\n",
       "    .dataframe tbody tr th {\n",
       "        vertical-align: top;\n",
       "    }\n",
       "\n",
       "    .dataframe thead th {\n",
       "        text-align: right;\n",
       "    }\n",
       "</style>\n",
       "<table border=\"1\" class=\"dataframe\">\n",
       "  <thead>\n",
       "    <tr style=\"text-align: right;\">\n",
       "      <th></th>\n",
       "      <th>page</th>\n",
       "      <th>method</th>\n",
       "      <th>status</th>\n",
       "    </tr>\n",
       "  </thead>\n",
       "  <tbody>\n",
       "    <tr>\n",
       "      <th>0</th>\n",
       "      <td>Submit Upgrade</td>\n",
       "      <td>PUT</td>\n",
       "      <td>307</td>\n",
       "    </tr>\n",
       "    <tr>\n",
       "      <th>1</th>\n",
       "      <td>Upgrade</td>\n",
       "      <td>GET</td>\n",
       "      <td>200</td>\n",
       "    </tr>\n",
       "    <tr>\n",
       "      <th>2</th>\n",
       "      <td>Downgrade</td>\n",
       "      <td>GET</td>\n",
       "      <td>200</td>\n",
       "    </tr>\n",
       "    <tr>\n",
       "      <th>3</th>\n",
       "      <td>Cancellation Confirmation</td>\n",
       "      <td>GET</td>\n",
       "      <td>200</td>\n",
       "    </tr>\n",
       "    <tr>\n",
       "      <th>4</th>\n",
       "      <td>Submit Downgrade</td>\n",
       "      <td>PUT</td>\n",
       "      <td>307</td>\n",
       "    </tr>\n",
       "    <tr>\n",
       "      <th>5</th>\n",
       "      <td>Add to Playlist</td>\n",
       "      <td>PUT</td>\n",
       "      <td>200</td>\n",
       "    </tr>\n",
       "    <tr>\n",
       "      <th>6</th>\n",
       "      <td>Save Settings</td>\n",
       "      <td>PUT</td>\n",
       "      <td>307</td>\n",
       "    </tr>\n",
       "    <tr>\n",
       "      <th>7</th>\n",
       "      <td>Thumbs Up</td>\n",
       "      <td>PUT</td>\n",
       "      <td>307</td>\n",
       "    </tr>\n",
       "    <tr>\n",
       "      <th>8</th>\n",
       "      <td>Home</td>\n",
       "      <td>GET</td>\n",
       "      <td>200</td>\n",
       "    </tr>\n",
       "    <tr>\n",
       "      <th>9</th>\n",
       "      <td>Logout</td>\n",
       "      <td>PUT</td>\n",
       "      <td>307</td>\n",
       "    </tr>\n",
       "    <tr>\n",
       "      <th>10</th>\n",
       "      <td>Roll Advert</td>\n",
       "      <td>GET</td>\n",
       "      <td>200</td>\n",
       "    </tr>\n",
       "    <tr>\n",
       "      <th>11</th>\n",
       "      <td>Cancel</td>\n",
       "      <td>PUT</td>\n",
       "      <td>307</td>\n",
       "    </tr>\n",
       "    <tr>\n",
       "      <th>12</th>\n",
       "      <td>Thumbs Down</td>\n",
       "      <td>PUT</td>\n",
       "      <td>307</td>\n",
       "    </tr>\n",
       "    <tr>\n",
       "      <th>13</th>\n",
       "      <td>Help</td>\n",
       "      <td>GET</td>\n",
       "      <td>200</td>\n",
       "    </tr>\n",
       "    <tr>\n",
       "      <th>14</th>\n",
       "      <td>About</td>\n",
       "      <td>GET</td>\n",
       "      <td>200</td>\n",
       "    </tr>\n",
       "    <tr>\n",
       "      <th>15</th>\n",
       "      <td>Error</td>\n",
       "      <td>GET</td>\n",
       "      <td>404</td>\n",
       "    </tr>\n",
       "    <tr>\n",
       "      <th>16</th>\n",
       "      <td>Add Friend</td>\n",
       "      <td>PUT</td>\n",
       "      <td>307</td>\n",
       "    </tr>\n",
       "    <tr>\n",
       "      <th>17</th>\n",
       "      <td>Settings</td>\n",
       "      <td>GET</td>\n",
       "      <td>200</td>\n",
       "    </tr>\n",
       "    <tr>\n",
       "      <th>18</th>\n",
       "      <td>NextSong</td>\n",
       "      <td>PUT</td>\n",
       "      <td>200</td>\n",
       "    </tr>\n",
       "  </tbody>\n",
       "</table>\n",
       "</div>"
      ],
      "text/plain": [
       "                         page method  status\n",
       "0              Submit Upgrade    PUT     307\n",
       "1                     Upgrade    GET     200\n",
       "2                   Downgrade    GET     200\n",
       "3   Cancellation Confirmation    GET     200\n",
       "4            Submit Downgrade    PUT     307\n",
       "5             Add to Playlist    PUT     200\n",
       "6               Save Settings    PUT     307\n",
       "7                   Thumbs Up    PUT     307\n",
       "8                        Home    GET     200\n",
       "9                      Logout    PUT     307\n",
       "10                Roll Advert    GET     200\n",
       "11                     Cancel    PUT     307\n",
       "12                Thumbs Down    PUT     307\n",
       "13                       Help    GET     200\n",
       "14                      About    GET     200\n",
       "15                      Error    GET     404\n",
       "16                 Add Friend    PUT     307\n",
       "17                   Settings    GET     200\n",
       "18                   NextSong    PUT     200"
      ]
     },
     "execution_count": 17,
     "metadata": {},
     "output_type": "execute_result"
    }
   ],
   "source": [
    "# Get all distinct (in-row) combinations of the fields\n",
    "# 'page','method', and 'status'\n",
    "sdf.select('page','method','status').distinct().toPandas()"
   ]
  },
  {
   "cell_type": "markdown",
   "metadata": {},
   "source": [
    "#### Explanation:\n",
    "#### Note in the above that there is only method value and one return status value for each page type. So the page type gives as much and more specific information. There is no reason that using the aggregates ('PUT','307') or ('GET','200') apart from individual page types would be helpful, e.g. Roll Advert and Home are quite unrelated, as is 'Logout' and 'Friend'.\n",
    "\n",
    "#### Therefore, we drop the method and status fields."
   ]
  },
  {
   "cell_type": "code",
   "execution_count": 18,
   "metadata": {},
   "outputs": [],
   "source": [
    "## So we drop the method and status fields as well as firstName and lastName since we have\n",
    "## the userId to uniquely identify the user\n",
    "sdf=sdf.drop(*['method','status'])"
   ]
  },
  {
   "cell_type": "markdown",
   "metadata": {},
   "source": [
    "### 2.6 Fields 'lastName' and 'firstName'"
   ]
  },
  {
   "cell_type": "markdown",
   "metadata": {},
   "source": [
    "#### There is no reason to believe these will have any bearing on a users decision to cancel, so we drop them as well."
   ]
  },
  {
   "cell_type": "code",
   "execution_count": 19,
   "metadata": {},
   "outputs": [],
   "source": [
    "sdf=sdf.drop(*['firstName','lastName'])"
   ]
  },
  {
   "cell_type": "markdown",
   "metadata": {},
   "source": [
    "### 2.7 Identify Cancelling (churn) Users"
   ]
  },
  {
   "cell_type": "code",
   "execution_count": 20,
   "metadata": {},
   "outputs": [
    {
     "name": "stdout",
     "output_type": "stream",
     "text": [
      "Number of unique users =  225\n",
      "Number of cancelling users =  52\n",
      "Number of staying    users =  173\n"
     ]
    }
   ],
   "source": [
    "# Make dataframes with 'canceling' and 'staying' users\n",
    "users_all_sdf    = sdf.select('userId').distinct()  \n",
    "users_cancel_sdf = sdf.filter(sdf.page == 'Cancellation Confirmation').select('userId').distinct()\n",
    "users_stay_sdf    = users_all_sdf.join(users_cancel_sdf,on='userId',how='left_anti')\n",
    "\n",
    "numUsers = users_all_sdf.count()\n",
    "print(\"Number of unique users = \",users_all_sdf.count())\n",
    "print(\"Number of cancelling users = \",users_cancel_sdf.count())\n",
    "print(\"Number of staying    users = \", users_stay_sdf.count())\n",
    "#print(\"Percentage of users in churn = \",)"
   ]
  },
  {
   "cell_type": "markdown",
   "metadata": {},
   "source": [
    "### 2.8 Field 'level' "
   ]
  },
  {
   "cell_type": "markdown",
   "metadata": {},
   "source": [
    "#### There are two distinct values of the 'level' field: 'free' and 'paid'. Users subscribed at the free level are occasionally served up advertisements at the beginning of a song. "
   ]
  },
  {
   "cell_type": "code",
   "execution_count": 21,
   "metadata": {},
   "outputs": [
    {
     "data": {
      "text/plain": [
       "[Row(level='paid', count=165), Row(level='free', count=195)]"
      ]
     },
     "execution_count": 21,
     "metadata": {},
     "output_type": "execute_result"
    }
   ],
   "source": [
    "#  The 'level' field -- get count of distinct values\n",
    "sdf_levels = sdf.select('userId','level').distinct()\n",
    "sdf_levels.groupBy('level').count().orderBy('count').collect()"
   ]
  },
  {
   "cell_type": "markdown",
   "metadata": {},
   "source": [
    "#### Note some users have been at both levels at different times."
   ]
  },
  {
   "cell_type": "code",
   "execution_count": 22,
   "metadata": {},
   "outputs": [
    {
     "name": "stdout",
     "output_type": "stream",
     "text": [
      "Cancelling Users -----------------------------------\n",
      "Total free      cancelling users =  46\n",
      "      free+paid cancelling users =  30\n",
      "      free only cancelling users =  16\n",
      "Total paid      cancelling users =  36\n",
      "      paid only cancelling users =  6\n",
      "\n",
      "\n",
      "Staying    Users -----------------------------------\n",
      "Total free      staying    users =  149\n",
      "      free+paid staying    users =  105\n",
      "      free only staying    users =  44\n",
      "Total paid      staying    users =  129\n",
      "      paid only staying    users =  24\n",
      "\n",
      "\n",
      "free only /paid only   cancel users =  2.67\n",
      "free only /paid only   stay   users =  1.83\n"
     ]
    }
   ],
   "source": [
    "# Breakdown free and paying subscribers among the cancel and stay sets.\n",
    "users_free_sdf =  sdf_levels.filter(sdf_levels.level=='free').select('userId')\n",
    "users_paid_sdf =  sdf_levels.filter(sdf_levels.level=='paid').select('userId')\n",
    "\n",
    "free_cancel_users_sdf = users_free_sdf.join(users_cancel_sdf,on='userId',how='inner')\n",
    "free_stay_users_sdf   = users_free_sdf.join(users_stay_sdf,  on='userId',how='inner')\n",
    "\n",
    "paid_cancel_users_sdf = users_paid_sdf.join(users_cancel_sdf,on='userId',how='inner')\n",
    "paid_stay_users_sdf   = users_paid_sdf.join(users_stay_sdf,  on='userId',how='inner')\n",
    "\n",
    "freepaid_cancel_users = free_cancel_users_sdf.join(paid_cancel_users_sdf,on='userId',how='inner')\n",
    "freepaid_stay_users   = free_stay_users_sdf.join(paid_stay_users_sdf,on='userId',how='inner')\n",
    "\n",
    "\n",
    "fcu = free_cancel_users_sdf.count()\n",
    "fsu = free_stay_users_sdf.count()\n",
    "pcu = paid_cancel_users_sdf.count()\n",
    "psu = paid_stay_users_sdf.count()\n",
    "\n",
    "fpcu = freepaid_cancel_users.count()\n",
    "fpsu = freepaid_stay_users.count()\n",
    "\n",
    "print(\"Cancelling Users -----------------------------------\")\n",
    "print(\"Total free      cancelling users = \",fcu)\n",
    "print(\"      free+paid cancelling users = \",fpcu)\n",
    "print(\"      free only cancelling users = \",fcu-fpcu)\n",
    "print(\"Total paid      cancelling users = \",pcu)\n",
    "print(\"      paid only cancelling users = \",pcu-fpcu)\n",
    "print(\"\\n\")\n",
    "print(\"Staying    Users -----------------------------------\")\n",
    "print(\"Total free      staying    users = \",fsu)\n",
    "print(\"      free+paid staying    users = \",fpsu)\n",
    "print(\"      free only staying    users = \",fsu-fpsu)\n",
    "print(\"Total paid      staying    users = \",psu)\n",
    "print(\"      paid only staying    users = \",psu-fpsu)\n",
    "print(\"\\n\")\n",
    "print(\"free only /paid only   cancel users = \", \"{0:.2f}\".format((fcu-fpcu)/(pcu-fpcu)))\n",
    "print(\"free only /paid only   stay   users = \", \"{0:.2f}\".format((fsu-fpsu)/(psu-fpsu)))"
   ]
  },
  {
   "cell_type": "markdown",
   "metadata": {},
   "source": [
    "#### The percentage of users in the cancelling set that have been at both levels is roughly equal to the same in staying set.\n",
    "####  30 out of 52 cancel users were free and paid at one time (0.57), whereas 105 out of (105 + 68) staying users were both free and paid at one time (0.60)\n",
    "\n",
    "####  The ratio of free only to paid only cancelling users is significantly large that the same ratio for staying users\n",
    "\n",
    "#### So the 'level' field may be important"
   ]
  },
  {
   "cell_type": "markdown",
   "metadata": {},
   "source": [
    "### 2.9 Field 'gender'"
   ]
  },
  {
   "cell_type": "code",
   "execution_count": 23,
   "metadata": {},
   "outputs": [
    {
     "name": "stdout",
     "output_type": "stream",
     "text": [
      "Number of male users =  121\n",
      "Number of male cancel users =  32\n",
      "Number of male stay   users =  89\n",
      "Number of female users =  104\n",
      "Number of female cancel users =  20\n",
      "Number of female stay   users =  84\n",
      "Fraction of males   cancelling =  0.264\n",
      "Fraction of females cancelling =  0.192\n"
     ]
    }
   ],
   "source": [
    "## Breakdown male, female users in the cancel and stay sets.\n",
    "users_gender_sdf   = sdf.select('userId','gender').distinct()\n",
    "users_male_sdf     = users_gender_sdf.filter(users_gender_sdf.gender=='M').select('userId')\n",
    "users_female_sdf   = users_gender_sdf.filter(users_gender_sdf.gender=='F').select('userId')\n",
    "\n",
    "## Join to users_cancel,users_stay\n",
    "umc =   users_male_sdf.join(users_cancel_sdf, on='userId', how='inner').count()\n",
    "ufc = users_female_sdf.join(users_cancel_sdf, on='userId', how='inner').count()\n",
    "ump =   users_male_sdf.join(users_stay_sdf,   on='userId', how='inner').count()\n",
    "ufp = users_female_sdf.join(users_stay_sdf,   on='userId', how='inner').count()\n",
    "\n",
    "print(\"Number of male users = \", umc + ump)\n",
    "print(\"Number of male cancel users = \",umc)\n",
    "print(\"Number of male stay   users = \",ump)\n",
    "\n",
    "\n",
    "print(\"Number of female users = \", ufc + ufp)\n",
    "print(\"Number of female cancel users = \",ufc)\n",
    "print(\"Number of female stay   users = \",ufp)\n",
    "\n",
    "print(\"Fraction of males   cancelling = \", \"{0:.3f}\".format(umc/(umc+ump)))\n",
    "print(\"Fraction of females cancelling = \", \"{0:.3f}\".format(ufc/(ufc+ufp)))"
   ]
  },
  {
   "cell_type": "markdown",
   "metadata": {},
   "source": [
    "#### Slightly larger fraction of males cancelling compared to females. So gender may be important."
   ]
  },
  {
   "cell_type": "markdown",
   "metadata": {},
   "source": [
    "### 2.10 Field Registration"
   ]
  },
  {
   "cell_type": "markdown",
   "metadata": {},
   "source": [
    "#### The data type for the registration field is float64 and is a unix timestamp in milliseconds. All registration entries are valid. "
   ]
  },
  {
   "cell_type": "code",
   "execution_count": 24,
   "metadata": {},
   "outputs": [
    {
     "name": "stdout",
     "output_type": "stream",
     "text": [
      "Max Registration Timestamp\n",
      "[Row(max(registration)=1543247354000)]\n",
      "Min Registration Timestamp\n",
      "[Row(min(registration)=1521380675000)]\n",
      "Number of NULL registrations\n",
      "+------------+\n",
      "|registration|\n",
      "+------------+\n",
      "|           0|\n",
      "+------------+\n",
      "\n"
     ]
    }
   ],
   "source": [
    "## Show that all registration entries are valid.\n",
    "print(\"Max Registration Timestamp\")\n",
    "print(sdf.agg(F.max(sdf.registration)).collect())\n",
    "print(\"Min Registration Timestamp\")\n",
    "print(sdf.agg(F.min(sdf.registration)).collect())\n",
    "print(\"Number of NULL registrations\")\n",
    "sdf.select(F.count(F.when(F.isnull('registration'), 'registration')).alias('registration')).show()\n",
    "## sdf_mid2.select([F.count(F.when(F.isnull(c), c)).alias(c) for c in sdf_mid2.columns]).show()"
   ]
  },
  {
   "cell_type": "markdown",
   "metadata": {},
   "source": [
    "#### First, we look at time-period distributions for cancelling and staying users. The 'time-period' is the max - min time that we have data for each user."
   ]
  },
  {
   "cell_type": "code",
   "execution_count": 25,
   "metadata": {},
   "outputs": [
    {
     "data": {
      "text/plain": [
       "<matplotlib.legend.Legend at 0x7f4aaa0b19e8>"
      ]
     },
     "execution_count": 25,
     "metadata": {},
     "output_type": "execute_result"
    },
    {
     "data": {
      "image/png": "[encoded data removed]",
      "text/plain": [
       "<matplotlib.figure.Figure at 0x7f4aa95aa940>"
      ]
     },
     "metadata": {
      "needs_background": "light"
     },
     "output_type": "display_data"
    }
   ],
   "source": [
    "# Compare time-period distributions for cancelling/ non cancelling users\n",
    "users_ts_sdf     = sdf.select('userId','ts').distinct()\n",
    "users_maxts_sdf  = users_ts_sdf.groupby('userId').agg(F.max(users_ts_sdf.ts))\n",
    "users_mints_sdf  = users_ts_sdf.groupby('userId').agg(F.min(users_ts_sdf.ts))\n",
    "users_maxts_sdf  = users_maxts_sdf.withColumnRenamed('max(ts)','maxts')\n",
    "users_mints_sdf  = users_mints_sdf.withColumnRenamed('min(ts)','mints')\n",
    "\n",
    "users_mmts_sdf         = users_maxts_sdf.join(users_mints_sdf,on='userId',how= 'inner')\n",
    "\n",
    "users_mmts_sdf = users_mmts_sdf.withColumn('ts_diff',users_mmts_sdf.maxts - users_mmts_sdf.mints)\n",
    "\n",
    "users_mmts_cancel_sdf  = users_mmts_sdf.join(users_cancel_sdf,on='userId',how= 'inner')\n",
    "users_mmts_stay_sdf    = users_mmts_sdf.join(users_stay_sdf,  on='userId',how= 'inner')\n",
    "\n",
    "users_mmts_cancel_df   = users_mmts_cancel_sdf.toPandas()\n",
    "users_mmts_stay_df     = users_mmts_stay_sdf.toPandas()\n",
    "\n",
    "\n",
    "plt.figure(figsize=(10,6))\n",
    "ax = sns.distplot(users_mmts_cancel_df.ts_diff, kde=False, label = \"Cancel\")\n",
    "ax = sns.distplot(users_mmts_stay_df.ts_diff,   kde=False, label = \"Stay\")\n",
    "ax.set(xlabel='Length of Time Period', ylabel='Number of Users',title = 'Distribution of Time Periods')\n",
    "plt.legend()"
   ]
  },
  {
   "cell_type": "code",
   "execution_count": 26,
   "metadata": {},
   "outputs": [],
   "source": [
    "# plt.figure(figsize=(10,6))\n",
    "# ax = sns.distplot(users_mmts_cancel_df.ts_diff, kde=False, label = \"Cancel\")\n",
    "# ax = sns.distplot(users_mmts_stay_df.ts_diff,   kde=False, label = \"Stay\")\n",
    "# ax.set(xlabel='Length of Time Period', ylabel='Number of Users',title = 'Distribution of Time Periods')\n",
    "# plt.legend()"
   ]
  },
  {
   "cell_type": "markdown",
   "metadata": {},
   "source": [
    "#### The plot for the 'stay' set is completely expected of course but note that with longer time periods, the number of cancellations decreases. This may imply that the longer a user remains registered, the less likely they are to cancel. This is checked in the following cell."
   ]
  },
  {
   "cell_type": "code",
   "execution_count": 27,
   "metadata": {},
   "outputs": [
    {
     "data": {
      "text/plain": [
       "<matplotlib.legend.Legend at 0x7f4aa92f2208>"
      ]
     },
     "execution_count": 27,
     "metadata": {},
     "output_type": "execute_result"
    },
    {
     "data": {
      "image/png": "[encoded data removed]",
      "text/plain": [
       "<matplotlib.figure.Figure at 0x7f4aa92f3d30>"
      ]
     },
     "metadata": {
      "needs_background": "light"
     },
     "output_type": "display_data"
    }
   ],
   "source": [
    "# Take time difference of user max time and their registration time\n",
    "users_reg_sdf     = sdf.select('userId','registration').distinct()\n",
    "\n",
    "reg_maxts_cancel_sdf     = users_reg_sdf.join(users_mmts_cancel_sdf,on='userId',how='inner')\n",
    "reg_maxts_stay_sdf       = users_reg_sdf.join(users_mmts_stay_sdf,on='userId',how='inner')\n",
    "\n",
    "reg_maxts_cancel_sdf = reg_maxts_cancel_sdf.withColumn('max_time_reg',\n",
    "                                                       reg_maxts_cancel_sdf.maxts - reg_maxts_cancel_sdf.registration)\n",
    "\n",
    "reg_maxts_stay_sdf = reg_maxts_stay_sdf.withColumn('max_time_reg',\n",
    "                                                       reg_maxts_stay_sdf.maxts - reg_maxts_stay_sdf.registration)\n",
    "\n",
    "reg_maxts_cancel_df =  reg_maxts_cancel_sdf.toPandas()\n",
    "reg_maxts_stay_df   =  reg_maxts_stay_sdf.toPandas()\n",
    "\n",
    "plt.figure(figsize=(10,6))\n",
    "ax = sns.distplot(reg_maxts_cancel_df.max_time_reg, kde=False, label = \"Cancel\")\n",
    "ax = sns.distplot(reg_maxts_stay_df.max_time_reg,   kde=False, label = \"Stay\")\n",
    "ax.set(xlabel='Max Time From Registration', ylabel='Number of Users',title = 'Max Time From Registration Distributions')\n",
    "plt.legend()"
   ]
  },
  {
   "cell_type": "markdown",
   "metadata": {},
   "source": [
    "#### Note there is some separation in these distributions, so 'max time from registration' should be a very important feature for our model!"
   ]
  },
  {
   "cell_type": "markdown",
   "metadata": {},
   "source": [
    "### 2.11 Field 'userAgent'"
   ]
  },
  {
   "cell_type": "markdown",
   "metadata": {},
   "source": [
    "#### The user Agent field -- represents the platform (web browser, OS) used to access Sparkify, our streaming service."
   ]
  },
  {
   "cell_type": "code",
   "execution_count": 28,
   "metadata": {},
   "outputs": [
    {
     "name": "stdout",
     "output_type": "stream",
     "text": [
      "Number of unique userAgents:\n",
      "+-------------------------+\n",
      "|count(DISTINCT userAgent)|\n",
      "+-------------------------+\n",
      "|                       56|\n",
      "+-------------------------+\n",
      "\n",
      "Number of unique Agents in cancel set:\n",
      "+-------------------------+\n",
      "|count(DISTINCT userAgent)|\n",
      "+-------------------------+\n",
      "|                       29|\n",
      "+-------------------------+\n",
      "\n",
      "Number of unique Agents in stay   set\n",
      "+-------------------------+\n",
      "|count(DISTINCT userAgent)|\n",
      "+-------------------------+\n",
      "|                       51|\n",
      "+-------------------------+\n",
      "\n",
      "Number of unique Agents in both  sets\n",
      "+-------------------------+\n",
      "|count(DISTINCT userAgent)|\n",
      "+-------------------------+\n",
      "|                       24|\n",
      "+-------------------------+\n",
      "\n",
      "Number of unique Agents that appear only in the cancel set:\n",
      "+-------------------------+\n",
      "|count(DISTINCT userAgent)|\n",
      "+-------------------------+\n",
      "|                        5|\n",
      "+-------------------------+\n",
      "\n",
      "Number of unique Agents that appear only  in the stay set:\n",
      "+-------------------------+\n",
      "|count(DISTINCT userAgent)|\n",
      "+-------------------------+\n",
      "|                       27|\n",
      "+-------------------------+\n",
      "\n",
      "Number of unique users that appear in the cancel only set:\n",
      "+----------------------+\n",
      "|count(DISTINCT userId)|\n",
      "+----------------------+\n",
      "|                     5|\n",
      "+----------------------+\n",
      "\n"
     ]
    }
   ],
   "source": [
    "# Breakdown userAgents in the cancel / stay sets\n",
    "print(\"Number of unique userAgents:\")\n",
    "sdf.agg(F.countDistinct(sdf.userAgent)).show()\n",
    "\n",
    "user_agents_sdf = sdf.select('userId','userAgent').distinct()\n",
    "#print(\"Some Examples:\")\n",
    "#user_agents_sdf.show(10)\n",
    "\n",
    "user_agents_cancel_sdf     = user_agents_sdf.join(users_cancel_sdf,on='userId',how='inner')\n",
    "user_agents_stay_sdf       = user_agents_sdf.join(users_stay_sdf,  on='userId',how='inner')\n",
    "\n",
    "## Agents both in cancel, stay\n",
    "user_agents_cancelstay_sdf = user_agents_cancel_sdf.join(user_agents_stay_sdf, on='userAgent',how='inner').distinct()\n",
    "\n",
    "#print(user_agents_cancelstay_sdf.count())## Users in cancel only\n",
    "user_agents_cancelonly_sdf = user_agents_cancel_sdf.join(user_agents_cancelstay_sdf, on='userAgent',how='left_anti')\n",
    "user_agents_stayonly_sdf = user_agents_stay_sdf.join(user_agents_cancelstay_sdf, on='userAgent',how='left_anti')\n",
    "\n",
    "\n",
    "print(\"Number of unique Agents in cancel set:\")\n",
    "user_agents_cancel_sdf.agg(F.countDistinct(user_agents_cancel_sdf.userAgent)).show()\n",
    "\n",
    "print(\"Number of unique Agents in stay   set\")\n",
    "user_agents_stay_sdf.agg(F.countDistinct(user_agents_stay_sdf.userAgent)).show()\n",
    "\n",
    "print(\"Number of unique Agents in both  sets\")\n",
    "user_agents_cancelstay_sdf.agg(F.countDistinct(user_agents_cancelstay_sdf.userAgent)).show()\n",
    "\n",
    "print(\"Number of unique Agents that appear only in the cancel set:\")\n",
    "user_agents_cancelonly_sdf.agg(F.countDistinct(user_agents_cancelonly_sdf.userAgent)).show()\n",
    "\n",
    "print(\"Number of unique Agents that appear only  in the stay set:\")\n",
    "user_agents_stayonly_sdf.agg(F.countDistinct(user_agents_stayonly_sdf.userAgent)).show()\n",
    "\n",
    "print(\"Number of unique users that appear in the cancel only set:\")\n",
    "user_agents_cancelonly_sdf.agg(F.countDistinct(user_agents_cancelonly_sdf.userId)).show()\n",
    "\n"
   ]
  },
  {
   "cell_type": "code",
   "execution_count": 29,
   "metadata": {},
   "outputs": [
    {
     "name": "stdout",
     "output_type": "stream",
     "text": [
      "userId= 122     Mozilla/5.0 (X11; Ubuntu; Linux i686; rv:31.0) Gecko/20100101 Firefox/31.0\n",
      "userId= 101     Mozilla/5.0 (Windows NT 6.2; WOW64; rv:31.0) Gecko/20100101 Firefox/31.0\n",
      "userId= 17     Mozilla/5.0 (Windows NT 6.1; WOW64; rv:24.0) Gecko/20100101 Firefox/24.0\n"
     ]
    }
   ],
   "source": [
    "# Print some examples\n",
    "user_agents_cancelonly_df = user_agents_cancelonly_sdf.toPandas()\n",
    "print(\"userId=\",user_agents_cancelonly_df.userId[0],\"   \", user_agents_cancelonly_df.userAgent[0])\n",
    "print(\"userId=\",user_agents_cancelonly_df.userId[3],\"   \", user_agents_cancelonly_df.userAgent[3])\n",
    "print(\"userId=\",user_agents_cancelonly_df.userId[4],\"   \", user_agents_cancelonly_df.userAgent[4])\n"
   ]
  },
  {
   "cell_type": "markdown",
   "metadata": {},
   "source": [
    "#### In the above we see that there are only 5 agents in the cancel only set, as opposed to 27 in the stay only set, and 24 that appear in both.\n",
    "\n",
    "#### The 5 unique agents in the cancel only set correspond only to 5 unique users, this is so unbalanced that it is unlikely that the userAgent field could be useful."
   ]
  },
  {
   "cell_type": "markdown",
   "metadata": {},
   "source": [
    "### 2.12 Field 'location'"
   ]
  },
  {
   "cell_type": "markdown",
   "metadata": {},
   "source": [
    "#### The location field describes the apparent city state of the userAgent. Below we breakdown the number of users in each state from the cancel and stay sets."
   ]
  },
  {
   "cell_type": "code",
   "execution_count": 30,
   "metadata": {},
   "outputs": [
    {
     "name": "stdout",
     "output_type": "stream",
     "text": [
      "+------+--------------------+\n",
      "|userId|            location|\n",
      "+------+--------------------+\n",
      "|    30|     Bakersfield, CA|\n",
      "|     9|Boston-Cambridge-...|\n",
      "|    30|     Bakersfield, CA|\n",
      "|     9|Boston-Cambridge-...|\n",
      "|    30|     Bakersfield, CA|\n",
      "+------+--------------------+\n",
      "only showing top 5 rows\n",
      "\n"
     ]
    }
   ],
   "source": [
    "## The 'location' field -- describes city,state\n",
    "sdf.select('userId','location').show(5)"
   ]
  },
  {
   "cell_type": "code",
   "execution_count": 31,
   "metadata": {},
   "outputs": [
    {
     "name": "stdout",
     "output_type": "stream",
     "text": [
      "Cancelling Users State Count:\n",
      "   state  count\n",
      "0     CA      6\n",
      "1     PA      5\n",
      "2     FL      3\n",
      "3     MD      3\n",
      "4     MI      3\n",
      "5     TX      3\n",
      "6     AL      2\n",
      "7     MS      2\n",
      "8     CO      2\n",
      "9     AZ      2\n",
      "10    KY      2\n",
      "11    OH      2\n",
      "12    WA      2\n",
      "13    NC      2\n",
      "14    AR      2\n",
      "Staying    Users State Count:\n",
      "   state  count\n",
      "0     CA     27\n",
      "1     PA     13\n",
      "2     TX     13\n",
      "3     FL     11\n",
      "4     WI      9\n",
      "5     IL      8\n",
      "6     SC      7\n",
      "7     NC      7\n",
      "8     NH      7\n",
      "9     CT      7\n",
      "10    IN      5\n",
      "11    AZ      5\n",
      "12    WV      5\n",
      "13    MD      4\n",
      "14    WA      4\n"
     ]
    }
   ],
   "source": [
    "## Extract the last 2 letters as state acronym\n",
    "def get_state(value):\n",
    "    return value[-2:]\n",
    "\n",
    "get_state_udf = udf(get_state, StringType())\n",
    "\n",
    "user_loc_sdf  = sdf.select('userId','location').distinct() \n",
    "\n",
    "user_loc_sdf  = user_loc_sdf.withColumn(\"state\", get_state_udf(\"location\"))\n",
    "user_loc_sdf.drop('location')\n",
    "\n",
    "## Combine to stay,cancel sets\n",
    "user_cancel_loc_sdf = user_loc_sdf.join(users_cancel_sdf,on='userId',how='inner')\n",
    "user_stay_loc_sdf   = user_loc_sdf.join(users_stay_sdf,  on='userId',how='inner')\n",
    "\n",
    "print(\"Cancelling Users State Count:\")\n",
    "print(user_cancel_loc_sdf.groupBy('state').count().orderBy('count',ascending=False).limit(15).toPandas())\n",
    "print(\"Staying    Users State Count:\")\n",
    "print(user_stay_loc_sdf.groupBy('state').count().orderBy('count',ascending=False).limit(15).toPandas())\n"
   ]
  },
  {
   "cell_type": "markdown",
   "metadata": {},
   "source": [
    "#### Note users are spread all around the country, largest number of users in both sets are in the most populous states. For the states with the top counts, the ratio of counts in the cancel set to the stay set is very roughly the same ~ (1/3 - 1/4) as the ratio of cancelling users (52) to staying users (173) in the full data set. So location is likely not important."
   ]
  },
  {
   "cell_type": "code",
   "execution_count": 32,
   "metadata": {},
   "outputs": [],
   "source": [
    "# Drop userAgent, location\n",
    "sdf = sdf.drop(*['userAgent','location'])"
   ]
  },
  {
   "cell_type": "markdown",
   "metadata": {},
   "source": [
    "### 2.13 Field 'page'"
   ]
  },
  {
   "cell_type": "markdown",
   "metadata": {},
   "source": [
    "#### This field represents the particular page type a user is visiting. To determine the relevance of page visits to user cancellations, we calculate the percentage of page visits in the cancel vs. stay sets."
   ]
  },
  {
   "cell_type": "code",
   "execution_count": 33,
   "metadata": {
    "scrolled": true
   },
   "outputs": [
    {
     "name": "stdout",
     "output_type": "stream",
     "text": [
      "Page visit percentanges for cancelling users:\n",
      "                         page  percentage\n",
      "0                    NextSong    0.811207\n",
      "1                   Thumbs Up    0.041436\n",
      "2                        Home    0.037268\n",
      "3             Add to Playlist    0.023137\n",
      "4                 Roll Advert    0.021554\n",
      "5                  Add Friend    0.014176\n",
      "6                      Logout    0.012326\n",
      "7                 Thumbs Down    0.011056\n",
      "8                   Downgrade    0.007512\n",
      "9                    Settings    0.006018\n",
      "10                       Help    0.005327\n",
      "11                    Upgrade    0.002496\n",
      "12              Save Settings    0.001293\n",
      "13                      About    0.001248\n",
      "14                     Cancel    0.001159\n",
      "15  Cancellation Confirmation    0.001159\n",
      "16                      Error    0.000713\n",
      "17             Submit Upgrade    0.000713\n",
      "18           Submit Downgrade    0.000201\n",
      "Page visit percentanges for staying users:\n",
      "                page  percentage\n",
      "0           NextSong    0.821784\n",
      "1          Thumbs Up    0.045831\n",
      "2               Home    0.036050\n",
      "3    Add to Playlist    0.023524\n",
      "4         Add Friend    0.015607\n",
      "5        Roll Advert    0.012714\n",
      "6             Logout    0.011458\n",
      "7        Thumbs Down    0.008787\n",
      "8          Downgrade    0.007364\n",
      "9           Settings    0.005332\n",
      "10              Help    0.005208\n",
      "11             About    0.001882\n",
      "12           Upgrade    0.001659\n",
      "13     Save Settings    0.001080\n",
      "14             Error    0.000943\n",
      "15    Submit Upgrade    0.000544\n",
      "16  Submit Downgrade    0.000231\n"
     ]
    }
   ],
   "source": [
    "# The 'page' field -- Examine the importance of how often a user accesses a type of page\n",
    "# Calculate percentage of page visits in the cancelling vs. staying sets\n",
    "users_page_sdf        = sdf.select('userId','page')\n",
    "\n",
    "users_page_cancel_sdf = users_page_sdf.join(users_cancel_sdf,on='userId',how='inner')\n",
    "users_page_stay_sdf   = users_page_sdf.join(users_stay_sdf,  on='userId',how='inner')\n",
    "\n",
    "nupc = users_page_cancel_sdf.count()\n",
    "nups = users_page_stay_sdf.count()\n",
    "\n",
    "#users_page_cancel_sdf = \\\n",
    "#users_page_cancel_sdf.filter((users_page_cancel_sdf.page != 'Cancellation Confirmation') & (users_page_cancel_sdf.page != 'Cancel'))\n",
    "\n",
    "\n",
    "users_page_cancel_df = \\\n",
    "    users_page_cancel_sdf.groupBy('page').count().orderBy('count',ascending=False).toPandas()\n",
    "users_page_cancel_df.columns = ['page','percentage']\n",
    "users_page_cancel_df.percentage = users_page_cancel_df.percentage/float(nupc) \n",
    "\n",
    "\n",
    "users_page_stay_df = \\\n",
    "    users_page_stay_sdf.groupBy('page').count().orderBy('count',ascending=False).toPandas()\n",
    "users_page_stay_df.columns = ['page','percentage']\n",
    "users_page_stay_df.percentage = users_page_stay_df.percentage/float(nups) \n",
    "\n",
    "\n",
    "print(\"Page visit percentanges for cancelling users:\")\n",
    "print(users_page_cancel_df)\n",
    "\n",
    "print(\"Page visit percentanges for staying users:\")\n",
    "print(users_page_stay_df)\n"
   ]
  },
  {
   "cell_type": "markdown",
   "metadata": {},
   "source": [
    "#### Note that the page visit percentages are remarkably similar, \n",
    "\n",
    "but accesses to but staying  users accessed the 'Thumbs Down' page slightly less and the 'Thumbs Up' page slightly more than cancelling users. The same is true for  'Add Friend'. \n",
    "This prompts us to create histograms of these page percentages aggregated up to the user. "
   ]
  },
  {
   "cell_type": "code",
   "execution_count": 34,
   "metadata": {
    "slideshow": {
     "slide_type": "-"
    }
   },
   "outputs": [
    {
     "data": {
      "image/png": "[encoded data removed]",
      "text/plain": [
       "<matplotlib.figure.Figure at 0x7f4aa8cda1d0>"
      ]
     },
     "metadata": {
      "needs_background": "light"
     },
     "output_type": "display_data"
    },
    {
     "data": {
      "image/png": "[encoded data removed]",
      "text/plain": [
       "<matplotlib.figure.Figure at 0x7f4aa89fe7f0>"
      ]
     },
     "metadata": {
      "needs_background": "light"
     },
     "output_type": "display_data"
    },
    {
     "data": {
      "image/png": "[encoded data removed]",
      "text/plain": [
       "<matplotlib.figure.Figure at 0x7f4aa8cd02b0>"
      ]
     },
     "metadata": {
      "needs_background": "light"
     },
     "output_type": "display_data"
    },
    {
     "data": {
      "image/png": "[encoded data removed]",
      "text/plain": [
       "<matplotlib.figure.Figure at 0x7f4aa8878400>"
      ]
     },
     "metadata": {
      "needs_background": "light"
     },
     "output_type": "display_data"
    },
    {
     "data": {
      "image/png": "[encoded data removed]",
      "text/plain": [
       "<matplotlib.figure.Figure at 0x7f4aa898eac8>"
      ]
     },
     "metadata": {
      "needs_background": "light"
     },
     "output_type": "display_data"
    },
    {
     "data": {
      "image/png": "[encoded data removed]",
      "text/plain": [
       "<matplotlib.figure.Figure at 0x7f4aa89fe2e8>"
      ]
     },
     "metadata": {
      "needs_background": "light"
     },
     "output_type": "display_data"
    },
    {
     "data": {
      "image/png": "[encoded data removed]",
      "text/plain": [
       "<matplotlib.figure.Figure at 0x7f4aa87a4550>"
      ]
     },
     "metadata": {
      "needs_background": "light"
     },
     "output_type": "display_data"
    },
    {
     "data": {
      "image/png": "[encoded data removed]",
      "text/plain": [
       "<matplotlib.figure.Figure at 0x7f4aa87a4c18>"
      ]
     },
     "metadata": {
      "needs_background": "light"
     },
     "output_type": "display_data"
    },
    {
     "data": {
      "image/png": "[encoded data removed]",
      "text/plain": [
       "<matplotlib.figure.Figure at 0x7f4aa87916a0>"
      ]
     },
     "metadata": {
      "needs_background": "light"
     },
     "output_type": "display_data"
    },
    {
     "data": {
      "image/png": "[encoded data removed]",
      "text/plain": [
       "<matplotlib.figure.Figure at 0x7f4aa8539518>"
      ]
     },
     "metadata": {
      "needs_background": "light"
     },
     "output_type": "display_data"
    },
    {
     "data": {
      "image/png": "[encoded data removed]",
      "text/plain": [
       "<matplotlib.figure.Figure at 0x7f4aa84304e0>"
      ]
     },
     "metadata": {
      "needs_background": "light"
     },
     "output_type": "display_data"
    },
    {
     "data": {
      "image/png": "[encoded data removed]",
      "text/plain": [
       "<matplotlib.figure.Figure at 0x7f4aa85cf278>"
      ]
     },
     "metadata": {
      "needs_background": "light"
     },
     "output_type": "display_data"
    },
    {
     "data": {
      "image/png": "[encoded data removed]",
      "text/plain": [
       "<matplotlib.figure.Figure at 0x7f4aa8539d30>"
      ]
     },
     "metadata": {
      "needs_background": "light"
     },
     "output_type": "display_data"
    },
    {
     "data": {
      "image/png": "[encoded data removed]",
      "text/plain": [
       "<matplotlib.figure.Figure at 0x7f4aa834da58>"
      ]
     },
     "metadata": {
      "needs_background": "light"
     },
     "output_type": "display_data"
    },
    {
     "data": {
      "image/png": "[encoded data removed]",
      "text/plain": [
       "<matplotlib.figure.Figure at 0x7f4aa83cf1d0>"
      ]
     },
     "metadata": {
      "needs_background": "light"
     },
     "output_type": "display_data"
    },
    {
     "data": {
      "image/png": "[encoded data removed]",
      "text/plain": [
       "<matplotlib.figure.Figure at 0x7f4aa833eac8>"
      ]
     },
     "metadata": {
      "needs_background": "light"
     },
     "output_type": "display_data"
    },
    {
     "data": {
      "image/png": "[encoded data removed]",
      "text/plain": [
       "<matplotlib.figure.Figure at 0x7f4aa83c8e10>"
      ]
     },
     "metadata": {
      "needs_background": "light"
     },
     "output_type": "display_data"
    }
   ],
   "source": [
    "## Construct histograms of users vs. pg visit fraction\n",
    "pages = ['NextSong','Thumbs Up','Home','Add to Playlist','Roll Advert','Add Friend','Logout','Thumbs Down','Downgrade','Settings',\n",
    "         'Help','About','Upgrade','Save Settings','Error','Submit Upgrade','Submit Downgrade']\n",
    "\n",
    "users_page_stay_sdf   = users_page_stay_sdf.withColumn('pvisit',lit(0))\n",
    "users_page_cancel_sdf = users_page_cancel_sdf.withColumn('pvisit',lit(0))\n",
    "\n",
    "\n",
    "for page in pages:\n",
    "    \n",
    "    users_page_stay_sdf  = users_page_stay_sdf   \\\n",
    "                        .withColumn('pvisit',F.when(F.col('page')==page,lit(1)).otherwise(lit(0)))\n",
    "    users_page_cancel_sdf  = users_page_cancel_sdf   \\\n",
    "                        .withColumn('pvisit',F.when(F.col('page')==page,lit(1)).otherwise(lit(0)))\n",
    "    \n",
    "    users_pgfrac_stay_sdf   = users_page_stay_sdf.groupby('userId').agg({'pvisit' : 'mean'})\n",
    "    users_pgfrac_cancel_sdf = users_page_cancel_sdf.groupby('userId').agg({'pvisit' : 'mean'})\n",
    "    \n",
    "        \n",
    "    users_pgfrac_stay_df    = users_pgfrac_stay_sdf.toPandas()\n",
    "    users_pgfrac_cancel_df  = users_pgfrac_cancel_sdf.toPandas()\n",
    "    \n",
    "    users_pgfrac_stay_df.columns   = ['userId',page]\n",
    "    users_pgfrac_cancel_df.columns = ['userId',page]\n",
    "    \n",
    "    plt.figure(figsize=(10,6)) \n",
    "    ax = sns.distplot(users_pgfrac_cancel_df[page], kde=False, label = 'Cancel')\n",
    "    ax = sns.distplot(users_pgfrac_stay_df[page],   kde=False, label = 'Stay')\n",
    "    xlb = page + ' Visit Fraction'\n",
    "    ax.set(xlabel=xlb, ylabel='Number of Users',title = 'Distribution of ' + xlb)\n",
    "    plt.legend()\n"
   ]
  },
  {
   "cell_type": "markdown",
   "metadata": {},
   "source": [
    "#### Very little daylight between any of these!! The best we can do is to select 'NextSong' and 'Thumbs Down' page fraction as additional features for our model."
   ]
  },
  {
   "cell_type": "markdown",
   "metadata": {},
   "source": [
    "### 2.14 Field 'length' "
   ]
  },
  {
   "cell_type": "markdown",
   "metadata": {},
   "source": [
    "#### The length field appears to be the length of the corresponding song (from the 'song' field) in seconds. We can use this field to calculate an \"estimate\" of the amount of a user listens to content on the service, essentially the ratio of the sum of 'length' for a user divided by the difference of max and min timestamps.\n",
    "\n",
    "#### It is important to note that this is just an estimate (quite poor in a few cases) since not every user will listen to a song the entire way through every time, and for nonpaying users songs are interrupted by advertisements. We see in the distribution plots of this ratio in fact that in some outlier cases the ratio is larger than one."
   ]
  },
  {
   "cell_type": "code",
   "execution_count": 35,
   "metadata": {},
   "outputs": [],
   "source": [
    "# Compute for each userId, ratio = sum(length)/(max(ts) - min(ts))\n",
    "listen_tf_sdf = sdf.select('userId','ts','length')\n",
    "listen_tf_sdf = listen_tf_sdf.fillna({'length':0.0})\n",
    "\n",
    "listen_tf_sdf = listen_tf_sdf.groupby(\"userId\").agg(F.min(listen_tf_sdf.ts),\n",
    "                                                    F.max(listen_tf_sdf.ts),\n",
    "                                                    F.sum(listen_tf_sdf.length))\n",
    "\n",
    "listen_tf_sdf = listen_tf_sdf.withColumn('ratio',col('sum(length)')*1000.0/(col('max(ts)') - col('min(ts)')))\n",
    "listen_tf_sdf = listen_tf_sdf.select('userId','ratio')\n",
    "listen_tf_stay_df   = listen_tf_sdf.join(users_stay_sdf,on='userId',how='inner').toPandas()\n",
    "listen_tf_cancel_df = listen_tf_sdf.join(users_cancel_sdf,on='userId',how='inner').toPandas()\n"
   ]
  },
  {
   "cell_type": "code",
   "execution_count": 36,
   "metadata": {},
   "outputs": [
    {
     "data": {
      "text/plain": [
       "<matplotlib.legend.Legend at 0x7f4aa8216da0>"
      ]
     },
     "execution_count": 36,
     "metadata": {},
     "output_type": "execute_result"
    },
    {
     "data": {
      "image/png": "[encoded data removed]",
      "text/plain": [
       "<matplotlib.figure.Figure at 0x7f4aa89fe278>"
      ]
     },
     "metadata": {
      "needs_background": "light"
     },
     "output_type": "display_data"
    }
   ],
   "source": [
    "plt.figure(figsize=(10,6))\n",
    "ax = sns.distplot(listen_tf_cancel_df.ratio, kde=False, label = 'Cancel')\n",
    "ax = sns.distplot(listen_tf_stay_df.ratio,   kde=False, label = 'Stay')\n",
    "ax.set(xlabel=\"Listening Time Fraction\", ylabel='Number of Users',title = \"Listening Time Fraction Distributions\")\n",
    "plt.legend()"
   ]
  },
  {
   "cell_type": "code",
   "execution_count": null,
   "metadata": {},
   "outputs": [],
   "source": []
  },
  {
   "cell_type": "markdown",
   "metadata": {},
   "source": [
    "### 2.15 Field 'sessionId'"
   ]
  },
  {
   "cell_type": "markdown",
   "metadata": {},
   "source": [
    "#### We saw above, that multiple users can have the same sessionId. However, assuming that the sessionId is a meaningful marker, it might make sense to attempt compute histograms for the number of songs listened to per sessionId."
   ]
  },
  {
   "cell_type": "code",
   "execution_count": 37,
   "metadata": {},
   "outputs": [],
   "source": [
    "listen_session_sdf = sdf.select('userId','sessionId','page').filter(sdf.page=='NextSong')\n",
    "listen_session_sdf = listen_session_sdf.drop('page')\n",
    "listen_session_sdf = listen_session_sdf.groupby('userId','sessionId').count()\n",
    "listen_session_sdf = listen_session_sdf.withColumnRenamed('count','cnt')\n",
    "listen_session_sdf = listen_session_sdf.groupby('userId').agg(F.avg(listen_session_sdf.cnt))\n",
    "   \n",
    "\n",
    "listen_session_stay_df   = listen_session_sdf.join(users_stay_sdf,on='userId',  how='inner').toPandas()\n",
    "listen_session_cancel_df = listen_session_sdf.join(users_cancel_sdf,on='userId',how='inner').toPandas()\n",
    "listen_session_stay_df.columns   = ['userId','songs_session']\n",
    "listen_session_cancel_df.columns = ['userId','songs_session']"
   ]
  },
  {
   "cell_type": "code",
   "execution_count": 38,
   "metadata": {},
   "outputs": [],
   "source": [
    "#listen_session_stay_df.columns"
   ]
  },
  {
   "cell_type": "code",
   "execution_count": 39,
   "metadata": {},
   "outputs": [
    {
     "data": {
      "text/plain": [
       "<matplotlib.legend.Legend at 0x7f4aa80cf1d0>"
      ]
     },
     "execution_count": 39,
     "metadata": {},
     "output_type": "execute_result"
    },
    {
     "data": {
      "image/png": "[encoded data removed]",
      "text/plain": [
       "<matplotlib.figure.Figure at 0x7f4aa1d0c7b8>"
      ]
     },
     "metadata": {
      "needs_background": "light"
     },
     "output_type": "display_data"
    }
   ],
   "source": [
    "plt.figure(figsize=(10,6))\n",
    "ax = sns.distplot(listen_session_cancel_df.songs_session, kde=False, label = 'Cancel')\n",
    "ax = sns.distplot(listen_session_stay_df.songs_session,   kde=False, label = 'Stay')\n",
    "ax.set(xlabel=\"Average Number of Songs Per Session\", ylabel='Number of Users',title = \"Average Number of Songs Per Session Distributions\")\n",
    "plt.legend()"
   ]
  },
  {
   "cell_type": "code",
   "execution_count": null,
   "metadata": {},
   "outputs": [],
   "source": []
  },
  {
   "cell_type": "code",
   "execution_count": null,
   "metadata": {},
   "outputs": [],
   "source": []
  },
  {
   "cell_type": "code",
   "execution_count": null,
   "metadata": {},
   "outputs": [],
   "source": []
  },
  {
   "cell_type": "markdown",
   "metadata": {},
   "source": [
    "## 3 Feature Engineering"
   ]
  },
  {
   "cell_type": "markdown",
   "metadata": {},
   "source": [
    "#### From the above analysis, the following features have been selected to construct our prediction model:\n",
    "\n",
    "     * Max time from registration\n",
    "     * Fraction of Thumbs Down accesses\n",
    "     * Fraction of NextSong accesses\n",
    "     * Gender\n",
    "     * Average 'paid' level"
   ]
  },
  {
   "cell_type": "code",
   "execution_count": 40,
   "metadata": {},
   "outputs": [
    {
     "data": {
      "text/plain": [
       "DataFrame[artist: string, auth: string, firstName: string, gender: string, itemInSession: bigint, lastName: string, length: double, level: string, location: string, method: string, page: string, registration: bigint, sessionId: bigint, song: string, status: bigint, ts: bigint, userAgent: string, userId: string]"
      ]
     },
     "execution_count": 40,
     "metadata": {},
     "output_type": "execute_result"
    }
   ],
   "source": [
    "sdf_feat = spark.read.json('mini_sparkify_event_data.json') ## Read into Spark Dataframe\n",
    "sdf_feat.persist()"
   ]
  },
  {
   "cell_type": "code",
   "execution_count": null,
   "metadata": {},
   "outputs": [],
   "source": []
  },
  {
   "cell_type": "markdown",
   "metadata": {},
   "source": [
    "### 3.1 Feature Selection"
   ]
  },
  {
   "cell_type": "markdown",
   "metadata": {},
   "source": [
    "#### Build out the Feature Matrix"
   ]
  },
  {
   "cell_type": "code",
   "execution_count": 41,
   "metadata": {},
   "outputs": [
    {
     "name": "stdout",
     "output_type": "stream",
     "text": [
      "root\n",
      " |-- userId: string (nullable = true)\n",
      " |-- ThumbsDown: double (nullable = true)\n",
      " |-- NextSong: double (nullable = true)\n",
      " |-- gender_m: integer (nullable = true)\n",
      " |-- level_p: double (nullable = true)\n",
      " |-- churn: integer (nullable = true)\n",
      " |-- max_time_reg: long (nullable = true)\n",
      "\n",
      "+------+--------------------+------------------+--------+------------------+-----+------------+\n",
      "|userId|          ThumbsDown|          NextSong|gender_m|           level_p|churn|max_time_reg|\n",
      "+------+--------------------+------------------+--------+------------------+-----+------------+\n",
      "|100010|0.013123359580052493|0.7217847769028871|       0|               0.0|    0|  4807612000|\n",
      "|200002|0.012658227848101266|0.8164556962025317|       1|0.7468354430379747|    0|  6054448000|\n",
      "|   125|                 0.0|0.7272727272727273|       1|               0.0|    1|  6161779000|\n",
      "|    51|0.008522727272727272| 0.856737012987013|       1|               1.0|    1|  1680985000|\n",
      "|   124| 0.00849740932642487|0.8453886010362694|       0|               1.0|    0| 11366431000|\n",
      "|     7|0.004975124378109453| 0.746268656716418|       1|               0.0|    0|  6288035000|\n",
      "|    54|0.008437590922315974| 0.826592958975851|       0|0.8318300843759092|    1|  9568946000|\n",
      "|    15|0.006145741878841089|0.8402107111501317|       1|               1.0|    0|  4882773000|\n",
      "|   155|0.002994011976047...|0.8183632734530938|       0|0.8562874251497006|    0|  2035240000|\n",
      "|   132|0.007378472222222222|0.8368055555555556|       0|0.9852430555555556|    0|  5779219000|\n",
      "+------+--------------------+------------------+--------+------------------+-----+------------+\n",
      "only showing top 10 rows\n",
      "\n"
     ]
    }
   ],
   "source": [
    "## Could also free/paid fraction\n",
    "sdf_feat = sdf_feat.select('userId','page','gender','ts','registration','level')\n",
    "sdf_feat = sdf_feat.filter(sdf_feat.userId != '')\n",
    "\n",
    "\n",
    "tdn_udf = udf(lambda x: 1 if x == \"Thumbs Down\" else 0, IntegerType())\n",
    "nxs_udf = udf(lambda x: 1 if x == \"NextSong\"    else 0, IntegerType())\n",
    "gen_udf = udf(lambda x: 1 if x == \"M\"           else 0, IntegerType())\n",
    "chn_udf = udf(lambda x: 1 if x == \"Cancellation Confirmation\"   else 0, IntegerType())\n",
    "lvl_udf = udf(lambda x: 1 if x == \"paid\"   else 0, IntegerType())\n",
    "\n",
    "## Add marker columns to perform aggregation\n",
    "features_sdf =  sdf_feat.withColumn('TDNm', tdn_udf(\"page\"))   \\\n",
    "                        .withColumn('NSm',  nxs_udf(\"page\"))   \\\n",
    "                        .withColumn('gm',   gen_udf(\"gender\")) \\\n",
    "                        .withColumn('chnm', chn_udf(\"page\"))   \\\n",
    "                        .withColumn('lvlm', lvl_udf(\"level\"))\n",
    "\n",
    "\n",
    "features_sdf =  features_sdf.groupby(\"userId\").agg(F.avg(features_sdf.TDNm),\n",
    "                                                   F.avg(features_sdf.NSm),\n",
    "                                                   F.max(features_sdf.gm),\n",
    "                                                   F.max(features_sdf.registration),\n",
    "                                                   F.max(features_sdf.ts),\n",
    "                                                   F.avg(features_sdf.lvlm),\n",
    "                                                   F.max(features_sdf.chnm))\n",
    "\n",
    "                               \n",
    "## Compute max time reg difference\n",
    "features_sdf = features_sdf.withColumn('max_time_reg',(col('max(ts)')  - col('max(registration)')))\n",
    "features_sdf = features_sdf.drop(*['max(ts)','max(registration)'])\n",
    "\n",
    "# Reset column names\n",
    "old_names = ['max(chnm)','max(gm)','avg(NSm)','avg(TDNm)','avg(lvlm)']\n",
    "new_names = ['churn','gender_m','NextSong','ThumbsDown','level_p']\n",
    "features_sdf = reduce(lambda features_sdf, idx: features_sdf.withColumnRenamed(old_names[idx], new_names[idx]), range(len(old_names)), features_sdf)\n",
    "features_sdf.printSchema()\n",
    "\n",
    "features_sdf.show(10)\n"
   ]
  },
  {
   "cell_type": "markdown",
   "metadata": {},
   "source": [
    "### 3.2 Train / Test Data Split"
   ]
  },
  {
   "cell_type": "markdown",
   "metadata": {},
   "source": [
    "#### As seen before, the data set is very unbalanced with many more users staying with the Sparkify service than leaving."
   ]
  },
  {
   "cell_type": "code",
   "execution_count": 42,
   "metadata": {},
   "outputs": [
    {
     "name": "stdout",
     "output_type": "stream",
     "text": [
      "Percentage of Users in Churn:\n",
      "0.231111111111\n"
     ]
    }
   ],
   "source": [
    "# Print cancel to stay, or churn, ratio\n",
    "print(\"Percentage of Users in Churn:\")\n",
    "cs_ratio = features_sdf.select(F.mean(col('churn'))).toPandas()['avg(churn)'].values[0]\n",
    "print(cs_ratio)"
   ]
  },
  {
   "cell_type": "markdown",
   "metadata": {},
   "source": [
    "#### Split features_sdf into train/test sets in the normal fashion would likely leave very few and perhaps not any test data with churn=1, so we choose to undersample the train data.\n",
    "\n",
    "#### First we'll select an equal number samples from the churn=0,1 sets. Then we allow an add back of some churn=0 data. We expect that allowing a 'slight' imbalance in the data in favor of adding more data will ultimately improve the model."
   ]
  },
  {
   "cell_type": "code",
   "execution_count": 43,
   "metadata": {},
   "outputs": [
    {
     "name": "stdout",
     "output_type": "stream",
     "text": [
      "Number of cancelling users in train set =  41\n",
      "Number of staying    users in train set =  55\n",
      "Number of cancelling users in test set =  11\n",
      "Number of staying    users in test set =  118\n"
     ]
    }
   ],
   "source": [
    "# Split features_sdf into train/test sets \n",
    "train_frac          = 0.8\n",
    "sc_ratio_train_frac = 1.6 ## This provides a little add back of churn=0 (stay) data\n",
    "\n",
    "\n",
    "## First we have to split into cancel and stay sets\n",
    "features_stay_sdf      = features_sdf.filter(features_sdf.churn==0)\n",
    "features_cancel_sdf    = features_sdf.filter(features_sdf.churn==1)\n",
    "\n",
    "## Split cancel to train/test\n",
    "features_train_cancel_sdf = features_cancel_sdf.sample(False, train_frac, seed=48)\n",
    "features_test_cancel_sdf  = features_cancel_sdf.join(features_train_cancel_sdf.select('userId'),on='userId',\n",
    "                                                    how = 'left_anti')\n",
    "## Split stay to train/test\n",
    "features_train_stay_sdf = features_stay_sdf.sample(False, cs_ratio*train_frac*sc_ratio_train_frac, seed=480)\n",
    "features_test_stay_sdf  = features_stay_sdf.join(features_train_stay_sdf.select('userId'),on='userId',\n",
    "                                                    how = 'left_anti')\n",
    "\n",
    "## Reassemble to train/test\n",
    "features_train_sdf = features_train_cancel_sdf.union(features_train_stay_sdf)\n",
    "features_test_sdf  = features_test_cancel_sdf.union(features_test_stay_sdf)\n",
    "\n",
    "\n",
    "# Print number of users in each set\n",
    "print(\"Number of cancelling users in train set = \", features_train_cancel_sdf.count())\n",
    "print(\"Number of staying    users in train set = \", features_train_stay_sdf.count())\n",
    "print(\"Number of cancelling users in test set = \",  features_test_cancel_sdf.count())\n",
    "print(\"Number of staying    users in test set = \",  features_test_stay_sdf.count())\n"
   ]
  },
  {
   "cell_type": "markdown",
   "metadata": {},
   "source": [
    "## 4 Initial Model Runs and Comparison"
   ]
  },
  {
   "cell_type": "markdown",
   "metadata": {},
   "source": [
    "#### We compare the performance of the DecisionTree and Random Forest classifiers as each is  a good all-purpose classifier for mixed discrete and continuous data. "
   ]
  },
  {
   "cell_type": "code",
   "execution_count": 44,
   "metadata": {},
   "outputs": [],
   "source": [
    "# Construct pipeline function for model\n",
    "def construct_pipeline(feature_cols,classifier):\n",
    "    \"\"\"\n",
    "    Constructs a pyspark ML Pipeline object assuming multiple features, contains data scaling\n",
    "    and the classifier object.\n",
    "    \n",
    "    Input: feature_cols: list of column names for features to be used\n",
    "           classifier:   pyspark ML classifier instance\n",
    "    \n",
    "    Output: pyspark ML Pipeline object\n",
    "    \n",
    "    \"\"\"\n",
    "        \n",
    "    featureAssembler = VectorAssembler(inputCols=feature_cols, outputCol=\"featuresAssemble\")\n",
    "    \n",
    "    stringIndexer = StringIndexer(inputCol=\"churn\", outputCol=\"label\")\n",
    "    \n",
    "    scaler = MinMaxScaler(inputCol=\"featuresAssemble\", outputCol=\"features\")\n",
    "\n",
    "    pipeline = Pipeline(stages=[featureAssembler, stringIndexer, scaler, classifier])  \n",
    "\n",
    "    return pipeline \n"
   ]
  },
  {
   "cell_type": "code",
   "execution_count": 45,
   "metadata": {},
   "outputs": [],
   "source": [
    "# Print metrics, results for model run\n",
    "def print_metrics(label,metrics):\n",
    "    \"\"\"\n",
    "    Prints precision,recall, f1 score, and confustion matrix from metrics\n",
    "    calculated from binary classification problem, label is 0 or 1.\n",
    "    \n",
    "    Input: label: a string to label the metrics printed here\n",
    "    \n",
    "    Output: metrics: metrics object of type pyspark.mllib.evaluation::MulticlassMetrics\n",
    "    \n",
    "    \"\"\"\n",
    "    \n",
    "    print(\"=========\", label, \"==========\")\n",
    "    print(\"Accuracy = \",metrics.accuracy)\n",
    "    print(\"Stay     Precision = \",metrics.precision(label=0))\n",
    "    print(\"Cancel   Precision = \",metrics.precision(label=1))\n",
    "    print(\"Stay     Recall    = \",metrics.recall(label=0))\n",
    "    print(\"Cancel   Recall    = \",metrics.recall(label=1))\n",
    "    ## Here, beta weights precision vs. recall in the harmonic mean in f1.\n",
    "    ## beta=1.0 corresponds to equal weighting.\n",
    "    print(\"Stay     F1 Measure= \",metrics.fMeasure(label=0.0,beta=1.0))\n",
    "    print(\"Cancel   F1 Measure= \",metrics.fMeasure(label=1.0,beta=1.0))\n",
    "    ##\n",
    "    print(\"Confusion Matrix\")\n",
    "    print(metrics.confusionMatrix())\n"
   ]
  },
  {
   "cell_type": "code",
   "execution_count": 46,
   "metadata": {},
   "outputs": [
    {
     "name": "stdout",
     "output_type": "stream",
     "text": [
      "DecisionTree\n",
      "Metrics -- \n",
      "========= DecisionTree Training Metrics ==========\n",
      "Accuracy =  0.90625\n",
      "Stay     Precision =  0.859375\n",
      "Cancel   Precision =  1.0\n",
      "Stay     Recall    =  1.0\n",
      "Cancel   Recall    =  0.7804878048780488\n",
      "Stay     F1 Measure=  0.9243697478991597\n",
      "Cancel   F1 Measure=  0.8767123287671234\n",
      "Confusion Matrix\n",
      "DenseMatrix([[ 55.,   0.],\n",
      "             [  9.,  32.]])\n",
      "========= DecisionTree Testing  Metrics ==========\n",
      "Accuracy =  0.7829457364341085\n",
      "Stay     Precision =  0.9591836734693877\n",
      "Cancel   Precision =  0.22580645161290322\n",
      "Stay     Recall    =  0.7966101694915254\n",
      "Cancel   Recall    =  0.6363636363636364\n",
      "Stay     F1 Measure=  0.8703703703703702\n",
      "Cancel   F1 Measure=  0.3333333333333333\n",
      "Confusion Matrix\n",
      "DenseMatrix([[ 94.,  24.],\n",
      "             [  4.,   7.]])\n",
      "RandomForest\n",
      "Metrics -- \n",
      "========= RandomForest Training Metrics ==========\n",
      "Accuracy =  0.9166666666666666\n",
      "Stay     Precision =  0.873015873015873\n",
      "Cancel   Precision =  1.0\n",
      "Stay     Recall    =  1.0\n",
      "Cancel   Recall    =  0.8048780487804879\n",
      "Stay     F1 Measure=  0.9322033898305084\n",
      "Cancel   F1 Measure=  0.8918918918918919\n",
      "Confusion Matrix\n",
      "DenseMatrix([[ 55.,   0.],\n",
      "             [  8.,  33.]])\n",
      "========= RandomForest Testing  Metrics ==========\n",
      "Accuracy =  0.7596899224806202\n",
      "Stay     Precision =  0.967741935483871\n",
      "Cancel   Precision =  0.2222222222222222\n",
      "Stay     Recall    =  0.7627118644067796\n",
      "Cancel   Recall    =  0.7272727272727273\n",
      "Stay     F1 Measure=  0.8530805687203792\n",
      "Cancel   F1 Measure=  0.3404255319148936\n",
      "Confusion Matrix\n",
      "DenseMatrix([[ 90.,  28.],\n",
      "             [  3.,   8.]])\n"
     ]
    }
   ],
   "source": [
    "## Compare the classifiers\n",
    "classifiers = [DecisionTreeClassifier(seed=42),RandomForestClassifier(seed=42)]\n",
    "classifier_names = [\"DecisionTree\",\"RandomForest\"]\n",
    "\n",
    "feature_cols = ['ThumbsDown','NextSong','max_time_reg','gender_m','level_p']\n",
    "\n",
    "for classifier,classifier_name in zip(classifiers,classifier_names):\n",
    "    \n",
    "    print(classifier_name)\n",
    "    pipe = construct_pipeline(feature_cols,classifier)\n",
    "    model = pipe.fit(features_train_sdf)\n",
    "    train_predict = model.transform(features_train_sdf)\n",
    "    test_predict  = model.transform(features_test_sdf)\n",
    "    train_metrics = MulticlassMetrics(train_predict.select(['prediction','label']).rdd)\n",
    "    test_metrics  = MulticlassMetrics(test_predict.select(['prediction','label']).rdd)\n",
    "    print(\"Metrics -- \")\n",
    "    met_name = classifier_name + \" Training Metrics\"; print_metrics(met_name,train_metrics)\n",
    "    met_name = classifier_name + \" Testing  Metrics\"; print_metrics(met_name,test_metrics)\n"
   ]
  },
  {
   "cell_type": "code",
   "execution_count": null,
   "metadata": {},
   "outputs": [],
   "source": []
  },
  {
   "cell_type": "markdown",
   "metadata": {},
   "source": [
    "## 5 Model Tuning"
   ]
  },
  {
   "cell_type": "code",
   "execution_count": null,
   "metadata": {},
   "outputs": [],
   "source": []
  },
  {
   "cell_type": "markdown",
   "metadata": {},
   "source": [
    "### 5.1 Tune Selected Model"
   ]
  },
  {
   "cell_type": "code",
   "execution_count": 47,
   "metadata": {},
   "outputs": [
    {
     "name": "stdout",
     "output_type": "stream",
     "text": [
      "Running Tuning Train Step ...\n",
      "Took ...  44.850341248512265  minutes.\n",
      "Running Tuning Test Prediction Step ...\n",
      "Took ...  0.09079194068908691  seconds.\n",
      "Extracting Tuning Test Metrics ...\n",
      "Took ...  3.7339224815368652  seconds.\n",
      "========= Random Forest Optimized Test Metrics ==========\n",
      "Accuracy =  0.7441860465116279\n",
      "Stay     Precision =  0.967032967032967\n",
      "Cancel   Precision =  0.21052631578947367\n",
      "Stay     Recall    =  0.7457627118644068\n",
      "Cancel   Recall    =  0.7272727272727273\n",
      "Stay     F1 Measure=  0.8421052631578948\n",
      "Cancel   F1 Measure=  0.32653061224489793\n",
      "Confusion Matrix\n",
      "DenseMatrix([[ 88.,  30.],\n",
      "             [  3.,   8.]])\n"
     ]
    }
   ],
   "source": [
    "# Tune RandomForest against data\n",
    "rfc = RandomForestClassifier(seed=42)\n",
    "pipe  = construct_pipeline(feature_cols, rfc)\n",
    "\n",
    "# Default optimization for this evaluator (according to documentation)\n",
    "# is 'f1' score\n",
    "evaluator = MulticlassClassificationEvaluator()\n",
    "# evaluator = BinaryClassificationEvaluator()\n",
    "\n",
    "param_grid = ParamGridBuilder().addGrid(rfc.numTrees,[10,15,20,24]) \\\n",
    "                               .addGrid(rfc.minInstancesPerNode,[1,2])  \\\n",
    "                               .addGrid(rfc.maxDepth,[5,7]) \\\n",
    "                               .addGrid(rfc.seed,[42]).build()\n",
    "\n",
    "\n",
    "cross_validator = CrossValidator(estimator=pipe, estimatorParamMaps=param_grid,\n",
    "                                 evaluator=evaluator,\n",
    "                                 numFolds=3,\n",
    "                                 seed=42)\n",
    "\n",
    "\n",
    "# train model\n",
    "print(\"Running Tuning Train Step ...\")\n",
    "t0 = time.time()\n",
    "model = cross_validator.fit(features_train_sdf)\n",
    "print(\"Took ... \",((time.time() - t0)/60.0),\" minutes.\")\n",
    "\n",
    "# test data prediction\n",
    "t0 = time.time()\n",
    "print(\"Running Tuning Test Prediction Step ...\")\n",
    "test_predict  = model.transform(features_test_sdf)\n",
    "print(\"Took ... \",((time.time() - t0)),\" seconds.\")\n",
    "      \n",
    "# Extract test metrics\n",
    "t0 = time.time()\n",
    "print(\"Extracting Tuning Test Metrics ...\")\n",
    "test_metrics  = MulticlassMetrics(test_predict.select(['prediction','label']).rdd)\n",
    "print(\"Took ... \",((time.time() - t0)),\" seconds.\")\n",
    "met_name = \"Random Forest Optimized Test Metrics\"; print_metrics(met_name,test_metrics)\n"
   ]
  },
  {
   "cell_type": "code",
   "execution_count": null,
   "metadata": {},
   "outputs": [],
   "source": []
  },
  {
   "cell_type": "markdown",
   "metadata": {},
   "source": [
    "### 5.2 Best Model Parameters"
   ]
  },
  {
   "cell_type": "code",
   "execution_count": 48,
   "metadata": {},
   "outputs": [
    {
     "data": {
      "text/plain": [
       "{Param(parent='RandomForestClassifier_049a1c2556dc', name='cacheNodeIds', doc='If false, the algorithm will pass trees to executors to match instances with nodes. If true, the algorithm will cache node IDs for each instance. Caching can speed up training of deeper trees.'): False,\n",
       " Param(parent='RandomForestClassifier_049a1c2556dc', name='checkpointInterval', doc='set checkpoint interval (>= 1) or disable checkpoint (-1). E.g. 10 means that the cache will get checkpointed every 10 iterations. Note: this setting will be ignored if the checkpoint directory is not set in the SparkContext'): 10,\n",
       " Param(parent='RandomForestClassifier_049a1c2556dc', name='featureSubsetStrategy', doc='The number of features to consider for splits at each tree node. Supported options: auto, all, onethird, sqrt, log2, (0.0-1.0], [1-n].'): 'auto',\n",
       " Param(parent='RandomForestClassifier_049a1c2556dc', name='featuresCol', doc='features column name'): 'features',\n",
       " Param(parent='RandomForestClassifier_049a1c2556dc', name='impurity', doc='Criterion used for information gain calculation (case-insensitive). Supported options: entropy, gini'): 'gini',\n",
       " Param(parent='RandomForestClassifier_049a1c2556dc', name='labelCol', doc='label column name'): 'label',\n",
       " Param(parent='RandomForestClassifier_049a1c2556dc', name='maxBins', doc='Max number of bins for discretizing continuous features.  Must be >=2 and >= number of categories for any categorical feature.'): 32,\n",
       " Param(parent='RandomForestClassifier_049a1c2556dc', name='maxDepth', doc='Maximum depth of the tree. (>= 0) E.g., depth 0 means 1 leaf node; depth 1 means 1 internal node + 2 leaf nodes.'): 5,\n",
       " Param(parent='RandomForestClassifier_049a1c2556dc', name='maxMemoryInMB', doc='Maximum memory in MB allocated to histogram aggregation.'): 256,\n",
       " Param(parent='RandomForestClassifier_049a1c2556dc', name='minInfoGain', doc='Minimum information gain for a split to be considered at a tree node.'): 0.0,\n",
       " Param(parent='RandomForestClassifier_049a1c2556dc', name='minInstancesPerNode', doc='Minimum number of instances each child must have after split.  If a split causes the left or right child to have fewer than minInstancesPerNode, the split will be discarded as invalid. Should be >= 1.'): 2,\n",
       " Param(parent='RandomForestClassifier_049a1c2556dc', name='numTrees', doc='Number of trees to train (>= 1)'): 20,\n",
       " Param(parent='RandomForestClassifier_049a1c2556dc', name='predictionCol', doc='prediction column name'): 'prediction',\n",
       " Param(parent='RandomForestClassifier_049a1c2556dc', name='probabilityCol', doc='Column name for predicted class conditional probabilities. Note: Not all models output well-calibrated probability estimates! These probabilities should be treated as confidences, not precise probabilities'): 'probability',\n",
       " Param(parent='RandomForestClassifier_049a1c2556dc', name='rawPredictionCol', doc='raw prediction (a.k.a. confidence) column name'): 'rawPrediction',\n",
       " Param(parent='RandomForestClassifier_049a1c2556dc', name='seed', doc='random seed'): 42,\n",
       " Param(parent='RandomForestClassifier_049a1c2556dc', name='subsamplingRate', doc='Fraction of the training data used for learning each decision tree, in range (0, 1].'): 1.0}"
      ]
     },
     "execution_count": 48,
     "metadata": {},
     "output_type": "execute_result"
    }
   ],
   "source": [
    "model.bestModel.stages[3].extractParamMap()"
   ]
  },
  {
   "cell_type": "markdown",
   "metadata": {},
   "source": [
    "## 6 Final Reflections"
   ]
  },
  {
   "cell_type": "markdown",
   "metadata": {},
   "source": [
    "We were unable to better the F1 score beyond 0.34, which although not very good, is at least partially explained by having much less data for cancelling users compared to those not cancelling.\n",
    "\n",
    "#### Eight out of the eleven cancelling users and 90 out of 118 staying users in the test set were predicted correctly, a somewhat decent result.\n",
    "\n",
    "Although our feature analysis for this study was fairly thorough, it was by no means exhaustive. To make further progress, we believe it would be crucial to properly account for how the user is spending time on the site. This means precisely calculating how much time they spend time on each page, how frequently they visit each page, and how much that frequency changes over time. For example, the time spent listening songs could be calculated by taking differences of the time stamp between rows for a user where contiguous section of page=\"NextSong\" is found for that user. This is much more precise than just using the song length as we did here.\n",
    "\n",
    "Another improvement would be to remove outliers, like those we saw far to the right in the page fraction histogram plots."
   ]
  }
 ],
 "metadata": {
  "kernelspec": {
   "display_name": "Python 3",
   "language": "python",
   "name": "python3"
  },
  "language_info": {
   "codemirror_mode": {
    "name": "ipython",
    "version": 3
   },
   "file_extension": ".py",
   "mimetype": "text/x-python",
   "name": "python",
   "nbconvert_exporter": "python",
   "pygments_lexer": "ipython3",
   "version": "3.6.3"
  }
 },
 "nbformat": 4,
 "nbformat_minor": 2
}
